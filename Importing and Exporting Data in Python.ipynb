{
 "cells": [
  {
   "cell_type": "markdown",
   "id": "69b7c9e4-cb39-4d2a-a3ce-479e80f50975",
   "metadata": {},
   "source": [
    "## IMPORTING AND EXPORTING DATA IN PYTHON"
   ]
  },
  {
   "cell_type": "code",
   "execution_count": 1,
   "id": "3afaf1a3-1e54-48ad-a634-1bd18f502834",
   "metadata": {},
   "outputs": [],
   "source": [
    "# It's the process of loading and reading Data into Python from various resources.\n",
    "# To resd any data using Pandas package,you consider 2 important factors;\n",
    "# 1.  Format: is the way data is encoded. Difft encoding schemes are told by looking at the ending of the file name.\n",
    "# Some common encodings are: .csv, .json. .xlsx, .hdf etc.\n",
    "# 2. File path of Dataset: Can be in our computer, online, or internet.\n",
    "# Computer:/Desktop/mydata.csv\n",
    "# Internet: https://archive.ics.uci.edu/autos/imports-85.data\n",
    "# The read csv method read files with columns seperated by commas into a Pandas DataFrame.\n",
    "# Reading data in Pandas can be done in 3 lines.\n",
    "# import Pandas as pd\n",
    "# Define a variable with the file path: url=\"\"\n",
    "# Use the read csv method to import the data: df = pd.read_csv(url)\n",
    "# Read csv assumes the data contains a header, Remember to set non header file to Non(url, header-None)"
   ]
  },
  {
   "cell_type": "markdown",
   "id": "391754ad-c327-4082-9efd-ea82ac3da85b",
   "metadata": {},
   "source": [
    "**PRINTING THE DATAFRAME IN PYTHON**"
   ]
  },
  {
   "cell_type": "code",
   "execution_count": 2,
   "id": "b30fb835-69f1-4c41-9d9c-e07fa6f50453",
   "metadata": {},
   "outputs": [],
   "source": [
    "# df prints the entire dataframe(not recommended for large datasets)\n",
    "# df.head(n) to show the first n rows of dataframe.\n",
    "# df.tail(n) shows the bottom n rows of data frame"
   ]
  },
  {
   "cell_type": "markdown",
   "id": "527c9cd1-694d-4055-89db-b130e5889392",
   "metadata": {},
   "source": [
    "## Adding Headers"
   ]
  },
  {
   "cell_type": "code",
   "execution_count": 3,
   "id": "b0d205df-cf54-42b7-a895-131e8fa78a66",
   "metadata": {},
   "outputs": [],
   "source": [
    "# Replace default header(df.columns = headers) "
   ]
  },
  {
   "cell_type": "markdown",
   "id": "6ffc67bf-1dc1-4a52-b47b-e4829bb1cd8e",
   "metadata": {},
   "source": [
    "## You can export your Pandas dataframe to a new csv file"
   ]
  },
  {
   "cell_type": "code",
   "execution_count": 4,
   "id": "5b125622-1d85-411f-ab55-5fb13ee260e8",
   "metadata": {},
   "outputs": [],
   "source": [
    "# Preserve progress anytime by saving modified dataset using\n",
    "# path=\"C:/Windows/.../automobile.csv\" df.to_csv(path)"
   ]
  },
  {
   "cell_type": "markdown",
   "id": "0d83cd4d-22bb-4f1b-8963-c6519fc86263",
   "metadata": {},
   "source": [
    "**Exporting to different file formats in Python**"
   ]
  },
  {
   "cell_type": "code",
   "execution_count": 5,
   "id": "be1a0c8e-87dc-43dc-8335-75924b6749cd",
   "metadata": {},
   "outputs": [],
   "source": [
    "# Data format (csv), Read- pd.read_csv(), Save- df.to_csv()\n",
    "# Data format (json), Read- pd.read_json(), Save- df.to_json()\n",
    "# Data format (Excel), Read- pd.read_excel(), Save- df.to_excel()\n",
    "# Data format (sql), Read- pd.read_sql(), Save- df.to_sql()"
   ]
  },
  {
   "cell_type": "code",
   "execution_count": null,
   "id": "1651dd7a-a5c0-4c49-8c45-f34a0f60efde",
   "metadata": {},
   "outputs": [],
   "source": []
  },
  {
   "cell_type": "markdown",
   "id": "9d3c5e46-9005-4a39-add5-f6f86d972ba4",
   "metadata": {},
   "source": [
    "## READING DATA SQL, CSV, APIs, ETC"
   ]
  },
  {
   "cell_type": "markdown",
   "id": "fa89e191-08ab-4190-a32e-cdcb284b5b54",
   "metadata": {},
   "source": [
    "**Reading Data With Python**"
   ]
  },
  {
   "cell_type": "code",
   "execution_count": 6,
   "id": "de88326c-3aa5-4436-aa11-ce9c965e63b7",
   "metadata": {},
   "outputs": [],
   "source": [
    "# When you want to work with a file, the first thing to do is to open it. This is done by invoking\n",
    "# the open() buil-in function. Open() has a single requred argument that is the path to the file \n",
    "#  and has a single return, the file object.\n",
    "# The with statement automatically takes care of closing the file once it leaves the with block, \n",
    "# even in cases of error."
   ]
  },
  {
   "cell_type": "code",
   "execution_count": 7,
   "id": "8ac08e59-299f-4789-b691-aeccca8b507d",
   "metadata": {},
   "outputs": [
    {
     "ename": "FileNotFoundError",
     "evalue": "[Errno 2] No such file or directory: 'C:\\\\Users\\\\Amaka\\\\Desktop\\\\DS FILES\\\\btc-market-price(3).csv'",
     "output_type": "error",
     "traceback": [
      "\u001b[1;31m---------------------------------------------------------------------------\u001b[0m",
      "\u001b[1;31mFileNotFoundError\u001b[0m                         Traceback (most recent call last)",
      "\u001b[1;32m~\\AppData\\Local\\Temp/ipykernel_10296/1314861848.py\u001b[0m in \u001b[0;36m<module>\u001b[1;34m\u001b[0m\n\u001b[1;32m----> 1\u001b[1;33m \u001b[1;32mwith\u001b[0m \u001b[0mopen\u001b[0m\u001b[1;33m(\u001b[0m\u001b[1;34m'C:\\\\Users\\\\Amaka\\\\Desktop\\\\DS FILES\\\\btc-market-price(3).csv'\u001b[0m\u001b[1;33m,\u001b[0m \u001b[1;34m'r'\u001b[0m\u001b[1;33m)\u001b[0m \u001b[1;32mas\u001b[0m \u001b[0mfp\u001b[0m\u001b[1;33m:\u001b[0m\u001b[1;33m\u001b[0m\u001b[1;33m\u001b[0m\u001b[0m\n\u001b[0m\u001b[0;32m      2\u001b[0m           \u001b[0mprint\u001b[0m\u001b[1;33m(\u001b[0m\u001b[0mfp\u001b[0m\u001b[1;33m)\u001b[0m\u001b[1;33m\u001b[0m\u001b[1;33m\u001b[0m\u001b[0m\n",
      "\u001b[1;31mFileNotFoundError\u001b[0m: [Errno 2] No such file or directory: 'C:\\\\Users\\\\Amaka\\\\Desktop\\\\DS FILES\\\\btc-market-price(3).csv'"
     ]
    }
   ],
   "source": [
    "with open('C:\\\\Users\\\\Amaka\\\\Desktop\\\\DS FILES\\\\btc-market-price(3).csv', 'r') as fp:\n",
    "          print(fp)"
   ]
  },
  {
   "cell_type": "code",
   "execution_count": null,
   "id": "e76b1ce7-d4eb-4e34-8474-30c33a551dca",
   "metadata": {},
   "outputs": [],
   "source": [
    "# Once the file is opened, we can read its content as follows:"
   ]
  },
  {
   "cell_type": "code",
   "execution_count": null,
   "id": "1288c9d5-f66b-4050-87ec-7cd2d90ac053",
   "metadata": {},
   "outputs": [],
   "source": [
    "with open('C:\\Users\\Amaka\\Desktop\\DS FILES.csv', 'r') as fp:\n",
    "    for index, line in enumerate(fp.readLines()):\n",
    "        # read just the firdt 10 lines\n",
    "        if (index < 10):\n",
    "            print(index, line)"
   ]
  },
  {
   "cell_type": "code",
   "execution_count": null,
   "id": "c6f569ba-5fcb-42fa-abad-1e7e33861acc",
   "metadata": {},
   "outputs": [],
   "source": [
    "# How can we process the data read from the file using pure Python? It involves a lot of manual work,\n",
    "# for example, splitting the values by the correct seperator."
   ]
  },
  {
   "cell_type": "code",
   "execution_count": null,
   "id": "9241007e-7fc4-4f89-b5d9-1ae043e350e1",
   "metadata": {},
   "outputs": [],
   "source": [
    "with open('btc-market-price.csv', 'r') as fp:\n",
    "    for index, line in enumerate(fp.readLines()):\n",
    "        # read just the firdt 10 lines\n",
    "        if (index < 10):\n",
    "            timestamp, price = line.split(',')\n",
    "            print(f\"(timestamp): ${price}\")"
   ]
  },
  {
   "cell_type": "code",
   "execution_count": null,
   "id": "9899e3b8-4cd0-465f-a924-545174425ab1",
   "metadata": {},
   "outputs": [],
   "source": [
    "# But what happens if the seperator is unknown, like in exam_review.csv"
   ]
  },
  {
   "cell_type": "code",
   "execution_count": null,
   "id": "a0f9637b-257b-4aa1-8a3e-1fa6e124fbbb",
   "metadata": {},
   "outputs": [],
   "source": [
    "!head exam_review.csv"
   ]
  },
  {
   "cell_type": "code",
   "execution_count": null,
   "id": "17818a78-bd45-4ea0-a070-02c0ccaacff7",
   "metadata": {},
   "outputs": [],
   "source": [
    "# In this case, the seperator is not a comma, but the > sign, it's still a 'csv' \n",
    "# although not technically seperated by commas."
   ]
  },
  {
   "cell_type": "code",
   "execution_count": null,
   "id": "9702f7d4-8eb6-41aa-a716-288550e57fd0",
   "metadata": {},
   "outputs": [],
   "source": []
  },
  {
   "cell_type": "code",
   "execution_count": null,
   "id": "8def80ce-08a2-412c-b948-2775094a8c73",
   "metadata": {},
   "outputs": [],
   "source": [
    "with open('btc-market-price.csv', 'r') as fp:\n",
    "    print(fp)"
   ]
  },
  {
   "cell_type": "code",
   "execution_count": null,
   "id": "ebc8393f-c0eb-43a6-b233-85d5bc9d44c2",
   "metadata": {},
   "outputs": [],
   "source": [
    "with open('btc-market-price.csv', 'r') as fp:\n",
    "    for index, line in enumerate(fp.readLines()):\n",
    "        # read just the first 10 lines\n",
    "        if (index < 10):\n",
    "            print(index, line)"
   ]
  },
  {
   "cell_type": "code",
   "execution_count": null,
   "id": "a362f9e5-d910-4d23-bd87-fd9f468e8ac2",
   "metadata": {},
   "outputs": [],
   "source": [
    "# How can we process the data read from the file using pure Python? It involves a lot of\n",
    "# manual work. Eg splitting the values by the correct seperator:"
   ]
  },
  {
   "cell_type": "code",
   "execution_count": null,
   "id": "26ec2a0b-eaa6-4bc0-b578-abd97cde7d96",
   "metadata": {},
   "outputs": [],
   "source": [
    "with open('btc-market-price.csv', 'r') as fp:\n",
    "    for index, line in enumerate(fp.readLines()):\n",
    "        # read just the first 10 lines\n",
    "        if (index < 10):\n",
    "            timestamp, price = line.split(',')\n",
    "            print(f\"(timestamp): ${price}\")"
   ]
  },
  {
   "cell_type": "code",
   "execution_count": null,
   "id": "f68b83b6-d5f5-416e-a696-1427116b4bcf",
   "metadata": {},
   "outputs": [],
   "source": [
    "# But what happens if the seperator is unknown, like in exam_review.csv"
   ]
  },
  {
   "cell_type": "code",
   "execution_count": null,
   "id": "dd2773e2-2be4-4711-947a-2a57055090d7",
   "metadata": {},
   "outputs": [],
   "source": [
    "!head exam_review.csv"
   ]
  },
  {
   "cell_type": "code",
   "execution_count": null,
   "id": "33610749-84a7-4a83-9aa8-7c132a845e29",
   "metadata": {},
   "outputs": [],
   "source": [
    "# In this case, the seperator is not a comma, but the > sign, it's still a 'csv' \n",
    "# although not technically seperated by commas."
   ]
  },
  {
   "cell_type": "code",
   "execution_count": null,
   "id": "c3fd774d-89ef-4ac4-9b77-a432035e9c24",
   "metadata": {},
   "outputs": [],
   "source": []
  },
  {
   "cell_type": "markdown",
   "id": "f9582311-ae1f-4d42-8c5c-aa88b33c9bc1",
   "metadata": {},
   "source": [
    "**The CSV Module**"
   ]
  },
  {
   "cell_type": "code",
   "execution_count": null,
   "id": "871137e5-55c0-486f-a4b3-43614bdce288",
   "metadata": {},
   "outputs": [],
   "source": [
    "# Python includes the builtin module CSV that helps a little bit more with the \n",
    "# process of reading CSVs."
   ]
  },
  {
   "cell_type": "code",
   "execution_count": null,
   "id": "cfa3646b-467d-47f8-a877-5d1000042072",
   "metadata": {},
   "outputs": [],
   "source": [
    "import csv"
   ]
  },
  {
   "cell_type": "code",
   "execution_count": null,
   "id": "37e100fd-f028-4aa3-9020-42e77fccdf9f",
   "metadata": {},
   "outputs": [],
   "source": [
    "with open('btc-market-price.csv', 'r') as fp:\n",
    "    for index, line in enumerate(fp.readLines()):\n",
    "        # read just the first 10 lines\n",
    "        if (index < 10):\n",
    "            timestamp, price = line.split(',')\n",
    "            print(f\"(timestamp): ${price}\")"
   ]
  },
  {
   "cell_type": "code",
   "execution_count": null,
   "id": "0a9071d1-c761-4300-95b0-2a91eaad4be5",
   "metadata": {},
   "outputs": [],
   "source": [
    "# The csv module takes care of splitting the file using a given seperator called (delimiter)\n",
    "# and creating an iterator for us."
   ]
  },
  {
   "cell_type": "code",
   "execution_count": null,
   "id": "d7aba8a1-4017-4729-a658-c944c739988c",
   "metadata": {},
   "outputs": [],
   "source": [
    "with open('exam_review.csv', 'r') as fp:\n",
    "    reader = csv.reader(fp, delimiter='>') # special delimiter\n",
    "    next (reader) # skipping header\n",
    "    for index, values in enumerate(reader):\n",
    "        if not values:\n",
    "            continue # skip empty lines\n",
    "            fname, lname, age, math, french = values\n",
    "            print(f\"{fname} {lname} ({age}) got {math} in math and {french} in french\")"
   ]
  },
  {
   "cell_type": "code",
   "execution_count": null,
   "id": "615b21f5-662e-4907-a019-0d12c217a5ba",
   "metadata": {},
   "outputs": [],
   "source": []
  },
  {
   "cell_type": "markdown",
   "id": "266aaa81-80d9-4f05-bbd2-fa28bd2e65d9",
   "metadata": {},
   "source": [
    "**Reading Data With Pandas**"
   ]
  },
  {
   "cell_type": "code",
   "execution_count": null,
   "id": "dc26e013-04e5-4c67-8930-30d328379c7a",
   "metadata": {},
   "outputs": [],
   "source": [
    "# The Pandas library offers us functions to read and write files in multiple formats\n",
    "# like CSV, Json, XML, Excel's Xlsx, and all of them creating a DataFrame with info read\n",
    "# from the file.\n",
    "\n",
    "# We'll learn how to read different types of Data including:\n",
    "# CSV file(CSV)\n",
    "# Raw text files(TXT)\n",
    "# Json data from a file and from and API\n",
    "# Data from an SQL query over a database."
   ]
  },
  {
   "cell_type": "code",
   "execution_count": null,
   "id": "929fd3b6-f4ee-41ac-a228-01fd1540134e",
   "metadata": {},
   "outputs": [],
   "source": []
  },
  {
   "cell_type": "markdown",
   "id": "05f7c68b-aedf-4b4e-85ac-b2b44a1de35a",
   "metadata": {},
   "source": [
    "**The read_csv Method**"
   ]
  },
  {
   "cell_type": "code",
   "execution_count": null,
   "id": "616f3a4f-49ad-4128-9f55-5c006707af7e",
   "metadata": {},
   "outputs": [],
   "source": [
    "# The first method we'll learn is the read_csv that lets us read comma seperated\n",
    "# value(CSV) and raw text(TXT) files into a DataFrame."
   ]
  },
  {
   "cell_type": "code",
   "execution_count": null,
   "id": "2b8c4aee-3a94-4608-b49b-d1ebfa8793fe",
   "metadata": {},
   "outputs": [],
   "source": []
  },
  {
   "cell_type": "code",
   "execution_count": null,
   "id": "c7f16bac-4a1b-45f1-bb06-ff02df78331e",
   "metadata": {},
   "outputs": [],
   "source": []
  },
  {
   "cell_type": "code",
   "execution_count": null,
   "id": "b702a3b3-bd3a-43c7-a147-914434ea923e",
   "metadata": {},
   "outputs": [],
   "source": [
    "# We'll try to read our btc-market-price.csv CSV file using different parameters to parse it correctly.\n",
    "# This file contains records of the mean price of bitcoin per day."
   ]
  },
  {
   "cell_type": "code",
   "execution_count": null,
   "id": "c9a484a9-e6de-4cd6-9f55-66da515c8434",
   "metadata": {},
   "outputs": [],
   "source": []
  },
  {
   "cell_type": "markdown",
   "id": "1a0cb4ac-1181-43f0-a8e2-8e0ef3605340",
   "metadata": {},
   "source": [
    "**Reading Our First CSV File**"
   ]
  },
  {
   "cell_type": "code",
   "execution_count": null,
   "id": "053b8ac1-cc93-45d0-b46a-0d4e457ca9c5",
   "metadata": {},
   "outputs": [],
   "source": [
    "# Everytime we call read_csv method, we'll need to parse an explicit filepath.\n",
    "# parameter indicating the path where our CSV file is.\n",
    "\n",
    "# Any valid string path is acceptable. The string could be a URL.Valid URL schemes\n",
    "# include; HTTP, FTP, S3,and file. For file URLs, a host is expected, a local file could be;\n",
    "# file://localhost/path/to/table.csv.\n",
    "\n",
    "# Eg, we can use read_csv method to load data directly from a URL."
   ]
  },
  {
   "cell_type": "code",
   "execution_count": null,
   "id": "d1a981ab-c9f1-4fca-97cc-1f8add696652",
   "metadata": {},
   "outputs": [],
   "source": [
    "pd.read_csv?"
   ]
  },
  {
   "cell_type": "code",
   "execution_count": null,
   "id": "f77eba84-3030-4a8e-9881-dc1a5da0d5bb",
   "metadata": {},
   "outputs": [],
   "source": []
  },
  {
   "cell_type": "code",
   "execution_count": null,
   "id": "88f2cfea-5216-4a79-9e09-cfcda897ae6b",
   "metadata": {},
   "outputs": [],
   "source": [
    "# or just use a local file"
   ]
  },
  {
   "cell_type": "code",
   "execution_count": null,
   "id": "a46a8103-9b5e-4f1f-a9bb-8b424da1b062",
   "metadata": {},
   "outputs": [],
   "source": [
    "df = pd.read_csv('btc-market-price.csv')\n",
    "df.head()"
   ]
  },
  {
   "cell_type": "code",
   "execution_count": null,
   "id": "367f2a9e-0c43-4f0f-aab8-d343dd65e67b",
   "metadata": {},
   "outputs": [],
   "source": [
    "# In this case we let Pandas infer everything related to our data, but in most of the cases,\n",
    "# we'll need to explicitly tell Pandas how we want our data to be loaded. To do that we use parameters\n",
    "\n",
    "# Let's see how these parameters work.\n",
    "    "
   ]
  },
  {
   "cell_type": "code",
   "execution_count": null,
   "id": "63751612-8c8b-441f-aa8f-8b4ac67a9c9e",
   "metadata": {},
   "outputs": [],
   "source": []
  },
  {
   "cell_type": "markdown",
   "id": "ac22ed2a-458e-4291-9406-558f275171a0",
   "metadata": {},
   "source": [
    "**First Row Behaviour With Header Parameters**"
   ]
  },
  {
   "cell_type": "code",
   "execution_count": null,
   "id": "51fc5713-c505-4908-b47f-3ce03f654c9d",
   "metadata": {},
   "outputs": [],
   "source": [
    "# The CSV file we are reading has only 2 colums; Timestamp and Price. It doesn't have a header.\n",
    "# Pandas automatically assigned the row of data as headers, which is incorrect.\n",
    "# We can overwrite this behaviour with the header parameter."
   ]
  },
  {
   "cell_type": "code",
   "execution_count": null,
   "id": "43958132-fa13-4d28-bf6f-9d3e272c86da",
   "metadata": {},
   "outputs": [],
   "source": [
    "df = pd.read_csv('btc-market-price.csv', header = None)\n",
    "\n",
    "df.head()"
   ]
  },
  {
   "cell_type": "code",
   "execution_count": null,
   "id": "f2fe2e43-c1c9-4c03-9683-537f0e7bcb9d",
   "metadata": {},
   "outputs": [],
   "source": []
  },
  {
   "cell_type": "markdown",
   "id": "9c542c07-d2e2-47c1-860d-60422480a442",
   "metadata": {},
   "source": [
    "**Missing Values with na_values Parameter**"
   ]
  },
  {
   "cell_type": "code",
   "execution_count": null,
   "id": "dd953ef3-5c30-4a97-93b2-8e0055beaa7a",
   "metadata": {},
   "outputs": [],
   "source": [
    "# We can define a na_values with the values we want to be recognised as NA/NAN\n",
    "# In this case empty strings '',? and = will be recognised as null values."
   ]
  },
  {
   "cell_type": "code",
   "execution_count": null,
   "id": "623c607b-8732-4d67-9775-3822c143537b",
   "metadata": {},
   "outputs": [],
   "source": [
    "df = pd.read_csv('btc-market-price.csv', header = None,na_values= "
   ]
  },
  {
   "cell_type": "code",
   "execution_count": null,
   "id": "0a9006a6-f81c-444c-99a5-e1b3fb5bf510",
   "metadata": {},
   "outputs": [],
   "source": []
  },
  {
   "cell_type": "code",
   "execution_count": null,
   "id": "b8ed224c-6307-4041-b82d-82bbd98004e2",
   "metadata": {},
   "outputs": [],
   "source": []
  },
  {
   "cell_type": "markdown",
   "id": "7b0d01cc-8742-4d87-9223-3ed54c5df1a0",
   "metadata": {},
   "source": [
    "#DATA CLEANING INTRODUCTION"
   ]
  },
  {
   "cell_type": "code",
   "execution_count": null,
   "id": "834c7508-5e68-4eaf-987d-cc85418b10a4",
   "metadata": {},
   "outputs": [],
   "source": [
    "import numpy as np\n",
    "import pandas as pd"
   ]
  },
  {
   "cell_type": "markdown",
   "id": "b6121ed9-d74a-41d2-bdc2-6638d90d86db",
   "metadata": {},
   "source": [
    "**Pandas Utility Function**"
   ]
  },
  {
   "cell_type": "code",
   "execution_count": null,
   "id": "c7c624b3-de7c-4206-af3b-c7adedda7e20",
   "metadata": {},
   "outputs": [],
   "source": [
    "Similar to Numpy, Pandas also have a few utility function to identify and detect null values."
   ]
  },
  {
   "cell_type": "code",
   "execution_count": null,
   "id": "c4f63157-6a92-428c-91c8-861de595b100",
   "metadata": {},
   "outputs": [],
   "source": [
    "pd.isnull(np.nan)"
   ]
  },
  {
   "cell_type": "code",
   "execution_count": null,
   "id": "0da610b9-7e45-4aac-9b43-11576078cae1",
   "metadata": {},
   "outputs": [],
   "source": [
    "pd.isnull(None)"
   ]
  },
  {
   "cell_type": "code",
   "execution_count": null,
   "id": "9195190b-cc53-4f20-9953-00fc5cbc10ab",
   "metadata": {},
   "outputs": [],
   "source": [
    "pd.isna(np.nan)"
   ]
  },
  {
   "cell_type": "code",
   "execution_count": null,
   "id": "620dca8c-057b-47c8-a800-9acf7a13f98d",
   "metadata": {},
   "outputs": [],
   "source": [
    "pd.isna(None)"
   ]
  },
  {
   "cell_type": "markdown",
   "id": "35432fef-fb56-45ec-8047-95027d8151a7",
   "metadata": {},
   "source": [
    "**The Opposite Ones also Exist**"
   ]
  },
  {
   "cell_type": "code",
   "execution_count": null,
   "id": "639a81d7-7063-4d2a-b030-53df0db37d15",
   "metadata": {},
   "outputs": [],
   "source": [
    "pd.notnull(None)"
   ]
  },
  {
   "cell_type": "code",
   "execution_count": null,
   "id": "c6ae52f0-49c1-4649-9490-575b279072c7",
   "metadata": {},
   "outputs": [],
   "source": [
    "pd.notnull(np.nan)"
   ]
  },
  {
   "cell_type": "code",
   "execution_count": null,
   "id": "a59673e7-8816-41b1-8a20-e1a309e7fb9d",
   "metadata": {},
   "outputs": [],
   "source": [
    "pd.notnull(3)"
   ]
  },
  {
   "cell_type": "code",
   "execution_count": null,
   "id": "2f423073-6295-48bf-ab69-f3ffef4ed71d",
   "metadata": {},
   "outputs": [],
   "source": [
    "# These Functions also Work with Series and Dataframes"
   ]
  },
  {
   "cell_type": "code",
   "execution_count": null,
   "id": "4893f5e9-40ea-434c-97bc-f131a2159f23",
   "metadata": {},
   "outputs": [],
   "source": [
    "pd.isnull(pd.Series([1, np.nan, 7]))"
   ]
  },
  {
   "cell_type": "code",
   "execution_count": null,
   "id": "531e2dfa-4b9d-42ca-bd8e-84982fb2e42e",
   "metadata": {},
   "outputs": [],
   "source": [
    "pd.notnull(pd.Series([1, np.nan, 7]))"
   ]
  },
  {
   "cell_type": "code",
   "execution_count": null,
   "id": "a7087ad4-a140-43a6-baf8-e1d0c4d3c5d9",
   "metadata": {},
   "outputs": [],
   "source": [
    "pd.isnull(pd.DataFrame({'Column A':[1, np.nan,],\n",
    "                        'Column B': [np.nan, 2, 3],\n",
    "                        'Column C': [np.nan, 2, np.nan]}))"
   ]
  },
  {
   "cell_type": "code",
   "execution_count": null,
   "id": "4690e240-27ce-41ee-a306-f0c0efdf9271",
   "metadata": {},
   "outputs": [],
   "source": []
  },
  {
   "cell_type": "markdown",
   "id": "5430539b-c827-427c-af1b-78a68108a057",
   "metadata": {},
   "source": [
    "**Pandas Operations with Missing Values**"
   ]
  },
  {
   "cell_type": "code",
   "execution_count": null,
   "id": "65174f09-fdb4-4a09-a91d-b7a637d942cb",
   "metadata": {},
   "outputs": [],
   "source": [
    "# Pandas manage missing files more gracefully than Numpy. nan s will no longer behave like 'viruses' and operations will ignore them completely."
   ]
  },
  {
   "cell_type": "code",
   "execution_count": null,
   "id": "48e84e93-75f3-4f00-89f8-e938112aae7b",
   "metadata": {},
   "outputs": [],
   "source": [
    "pd.Series([1, 2, np.nan]).count()"
   ]
  },
  {
   "cell_type": "code",
   "execution_count": null,
   "id": "e8734aeb-80e2-4ed2-9e39-511b04a0e148",
   "metadata": {},
   "outputs": [],
   "source": [
    "pd.Series([1, 2, np.nan]).sum()"
   ]
  },
  {
   "cell_type": "code",
   "execution_count": null,
   "id": "e261e1a3-d462-40d8-ab45-152d7a585162",
   "metadata": {},
   "outputs": [],
   "source": [
    "pd.Series([2, 2, np.nan]).mean()"
   ]
  },
  {
   "cell_type": "code",
   "execution_count": null,
   "id": "37d9433e-9334-48fe-a009-8348954942f3",
   "metadata": {},
   "outputs": [],
   "source": []
  },
  {
   "cell_type": "markdown",
   "id": "aa53e672-d6b4-4569-a76e-7f0b8e979d21",
   "metadata": {},
   "source": [
    "**Filtering Missing DAta**"
   ]
  },
  {
   "cell_type": "code",
   "execution_count": null,
   "id": "11647254-175c-4017-9d3b-48ae6fcb26d9",
   "metadata": {},
   "outputs": [],
   "source": [
    "# As we saw with numpy, we could combine boolean selection + pd.isnull\n",
    "# to filter out those nan s and null values."
   ]
  },
  {
   "cell_type": "code",
   "execution_count": null,
   "id": "b2d39e2a-f6f5-4ce2-a5cf-3857ac9ed9af",
   "metadata": {},
   "outputs": [],
   "source": [
    "s = pd.Series([1,2,3, np.nan, np.nan, 4])"
   ]
  },
  {
   "cell_type": "code",
   "execution_count": null,
   "id": "f6c8a057-f1e5-41e6-b255-45aea83a2389",
   "metadata": {},
   "outputs": [],
   "source": [
    "pd.notnull(s)"
   ]
  },
  {
   "cell_type": "code",
   "execution_count": null,
   "id": "58abc2ac-e9c9-4f30-8bf8-d68673523c0d",
   "metadata": {},
   "outputs": [],
   "source": [
    "pd.notnull(s).count()"
   ]
  },
  {
   "cell_type": "code",
   "execution_count": null,
   "id": "15ccd8fe-a1ab-4b52-b475-06f4b8035a36",
   "metadata": {},
   "outputs": [],
   "source": [
    "s[pd.notnull(s)]"
   ]
  },
  {
   "cell_type": "code",
   "execution_count": null,
   "id": "b2f74218-be91-468f-badc-5c45ed43a0e0",
   "metadata": {},
   "outputs": [],
   "source": [
    "# But both notnull and isnull are also methods of Series and DataFrames, so we could use it that way."
   ]
  },
  {
   "cell_type": "code",
   "execution_count": null,
   "id": "03df5bfd-4516-4d5a-b2ee-2dee24cf98d4",
   "metadata": {},
   "outputs": [],
   "source": [
    "s.isnull()"
   ]
  },
  {
   "cell_type": "code",
   "execution_count": null,
   "id": "e5018067-e76c-44ed-92a6-9709f71f4d39",
   "metadata": {},
   "outputs": [],
   "source": [
    "s.notnull()"
   ]
  },
  {
   "cell_type": "code",
   "execution_count": null,
   "id": "3ce71961-1a64-42e0-937d-0bfc78201634",
   "metadata": {},
   "outputs": [],
   "source": [
    "s[s.notnull()]"
   ]
  },
  {
   "cell_type": "code",
   "execution_count": null,
   "id": "91dd8bcd-5fd1-452e-8092-423ae35bae02",
   "metadata": {},
   "outputs": [],
   "source": []
  },
  {
   "cell_type": "code",
   "execution_count": null,
   "id": "1fbc2be0-1fa1-4e8b-b4e9-4453369469c4",
   "metadata": {},
   "outputs": [],
   "source": []
  },
  {
   "cell_type": "code",
   "execution_count": null,
   "id": "a8168408-a299-4858-a7fd-6d5c3a4b22a1",
   "metadata": {},
   "outputs": [],
   "source": [
    "pd.notnull(np.nan)"
   ]
  },
  {
   "cell_type": "code",
   "execution_count": null,
   "id": "164b17bd-2cc5-4aed-a0e6-41a4c9915889",
   "metadata": {},
   "outputs": [],
   "source": []
  },
  {
   "cell_type": "code",
   "execution_count": null,
   "id": "0659d3d6-bed3-47fb-8369-ca2673bab14c",
   "metadata": {},
   "outputs": [],
   "source": [
    "pd.notna(np.nan)"
   ]
  },
  {
   "cell_type": "code",
   "execution_count": null,
   "id": "2a5f1ea4-cbc5-4401-943f-acfb93720c30",
   "metadata": {},
   "outputs": [],
   "source": [
    "pd.notnull(3)"
   ]
  },
  {
   "cell_type": "code",
   "execution_count": null,
   "id": "140236f9-82b5-4490-b823-65a913881545",
   "metadata": {},
   "outputs": [],
   "source": [
    "# These Functions also work with Series and DataFrame"
   ]
  },
  {
   "cell_type": "code",
   "execution_count": null,
   "id": "d34809f6-9fb1-4543-b127-2004b181dfef",
   "metadata": {},
   "outputs": [],
   "source": [
    "pd.isnull(pd.series([1, np.nan, 7]))"
   ]
  },
  {
   "cell_type": "code",
   "execution_count": null,
   "id": "bccb22ca-3791-48c2-9ce9-d06893b773fe",
   "metadata": {},
   "outputs": [],
   "source": [
    "pd.notnull(pd.series([1, np.nan, 7]))"
   ]
  },
  {
   "cell_type": "code",
   "execution_count": null,
   "id": "e7be6fcf-dd88-43bd-b6ee-517f6f7f61b4",
   "metadata": {},
   "outputs": [],
   "source": [
    "pd.isnull(pd.DataFrame[{"
   ]
  },
  {
   "cell_type": "code",
   "execution_count": null,
   "id": "c55f1d7c-e0a0-4a63-aa6b-dde6043f57b7",
   "metadata": {},
   "outputs": [],
   "source": [
    "pd.isnull(pd.DataFrame({'Column A':[1, np.nan,]\n",
    "                        'Column B': [np.nan, 2, 3],\n",
    "                        'Column C': [np.nan, 2, np.nan]}))"
   ]
  },
  {
   "cell_type": "markdown",
   "id": "13aab53c-e6c9-4b90-accb-b3e23a28f7be",
   "metadata": {},
   "source": [
    "**Pandas Operations with Missing Values**"
   ]
  },
  {
   "cell_type": "code",
   "execution_count": null,
   "id": "bc33fde1-5eed-4a96-9e36-56014c3d46d8",
   "metadata": {},
   "outputs": [],
   "source": [
    "# Pandas manage missing files more gracefully than Numpy. nan s will no longer behave like 'viruses' and operations will ignore them completely."
   ]
  },
  {
   "cell_type": "code",
   "execution_count": null,
   "id": "81972b7a-dfd6-45a6-b2db-31b051d07627",
   "metadata": {},
   "outputs": [],
   "source": [
    "pd.Series([1, 2, np.nan]).count()"
   ]
  },
  {
   "cell_type": "code",
   "execution_count": null,
   "id": "836bcef9-2f37-49f0-9d6f-0a41e5feba19",
   "metadata": {},
   "outputs": [],
   "source": []
  },
  {
   "cell_type": "markdown",
   "id": "d5c97772-86e5-4cca-8628-95ce121cdcbd",
   "metadata": {},
   "source": [
    "**Dropping Null Values**"
   ]
  },
  {
   "cell_type": "code",
   "execution_count": null,
   "id": "51666490-f076-4ea4-8aea-d960d1154a90",
   "metadata": {},
   "outputs": [],
   "source": [
    "# Boolean selection + notnull() seems a little bit verbose and repetitive. and as said before,\n",
    "# any repetitive task will probably have a better more dry way. in this case we can use the dropna mtd. "
   ]
  },
  {
   "cell_type": "code",
   "execution_count": null,
   "id": "9bac27bd-7fc5-4013-9de2-3668757d77c6",
   "metadata": {},
   "outputs": [],
   "source": [
    "s.dropna()"
   ]
  },
  {
   "cell_type": "code",
   "execution_count": null,
   "id": "960fdb03-183b-4733-a691-b7eac6179682",
   "metadata": {},
   "outputs": [],
   "source": [
    "pd.notnull(s).sum()"
   ]
  },
  {
   "cell_type": "code",
   "execution_count": null,
   "id": "d6c82249-6ca8-4cb3-9837-3cbdf686319d",
   "metadata": {},
   "outputs": [],
   "source": [
    "pd.isnull(s).sum()"
   ]
  },
  {
   "cell_type": "code",
   "execution_count": null,
   "id": "df2215f1-a755-4c36-a6c6-a216008d21de",
   "metadata": {},
   "outputs": [],
   "source": [
    "s[pd.notnull(s)]"
   ]
  },
  {
   "cell_type": "code",
   "execution_count": null,
   "id": "fd49ba74-75ac-437f-920c-39f7cdf54188",
   "metadata": {},
   "outputs": [],
   "source": [
    "# But both notnull and isnull are also methods of Series and DataFrames so we could use it that way."
   ]
  },
  {
   "cell_type": "code",
   "execution_count": null,
   "id": "f3c71349-66e6-4e86-aea8-136d31268b0f",
   "metadata": {},
   "outputs": [],
   "source": [
    "s.isnull()"
   ]
  },
  {
   "cell_type": "code",
   "execution_count": null,
   "id": "0fe45bb9-4509-4500-aaba-947e10109512",
   "metadata": {},
   "outputs": [],
   "source": [
    "s.notnull()"
   ]
  },
  {
   "cell_type": "code",
   "execution_count": null,
   "id": "0b5c20e4-0dfe-4b0b-81bd-aca61134dbbf",
   "metadata": {},
   "outputs": [],
   "source": [
    "s[s.notnull()]"
   ]
  },
  {
   "cell_type": "markdown",
   "id": "7ae76890-3b34-4ed4-819d-cb5f8d324a9a",
   "metadata": {},
   "source": [
    "**Dropping Null Values**"
   ]
  },
  {
   "cell_type": "code",
   "execution_count": null,
   "id": "f505c6b5-b51c-497b-9e62-e011f7252741",
   "metadata": {},
   "outputs": [],
   "source": [
    "# Boolean selection + notnull() seems a little bit verbose and repetitive. and as said before,\n",
    "# any repetitive task will probably have a better more dry way. in this case we can use the dropna mtd. "
   ]
  },
  {
   "cell_type": "code",
   "execution_count": null,
   "id": "958d927c-6e61-480e-8f10-d5c20444266e",
   "metadata": {},
   "outputs": [],
   "source": [
    "s.dropna()"
   ]
  },
  {
   "cell_type": "markdown",
   "id": "3be9b2dc-76ea-465b-80d8-17e22c8e6119",
   "metadata": {},
   "source": [
    "**Dopping Null Values on DataFrames**"
   ]
  },
  {
   "cell_type": "code",
   "execution_count": null,
   "id": "4ec94c23-c623-4215-a9ae-1a87b20a1fda",
   "metadata": {},
   "outputs": [],
   "source": [
    "# It is simple to drop na s with a Series, but with DataFrames,there will be a few more things to consider, because you cant\n",
    "# drop single values,you can only drop entire column or rows. Let's start with a simple DataFrame.\n"
   ]
  },
  {
   "cell_type": "code",
   "execution_count": null,
   "id": "da33c9d2-56d0-43a8-846e-b9bdfbc99eb6",
   "metadata": {},
   "outputs": [],
   "source": [
    "df = pd.DataFrame({\n",
    "    'Column A':[1, np.nan, 30, np.nan],\n",
    "    'Column B': [2, 8, 31, np.nan],\n",
    "    'Column C': [np.nan, 9, 32, 100],\n",
    "    'Column D': [5, 8, 34, 110],})\n",
    "                   "
   ]
  },
  {
   "cell_type": "code",
   "execution_count": null,
   "id": "4c5b00f5-f316-40e5-bc43-911ead2a2544",
   "metadata": {},
   "outputs": [],
   "source": [
    "df"
   ]
  },
  {
   "cell_type": "code",
   "execution_count": null,
   "id": "962cf48f-f771-4c10-a58f-e57da84d6394",
   "metadata": {},
   "outputs": [],
   "source": [
    "df.isnull()"
   ]
  },
  {
   "cell_type": "code",
   "execution_count": null,
   "id": "a1202373-6f4d-496d-b673-ea0768f3231b",
   "metadata": {},
   "outputs": [],
   "source": [
    "df.isnull.sum()"
   ]
  },
  {
   "cell_type": "code",
   "execution_count": null,
   "id": "58863d6d-0d06-4295-bf1e-ffa36bb697a0",
   "metadata": {},
   "outputs": [],
   "source": [
    "# The default dropna behaviour will drop all the rows in which any null values is present."
   ]
  },
  {
   "cell_type": "code",
   "execution_count": null,
   "id": "8bfa012a-ee7c-449f-83e0-0d724f7268d1",
   "metadata": {},
   "outputs": [],
   "source": [
    "df.dropna()"
   ]
  },
  {
   "cell_type": "code",
   "execution_count": null,
   "id": "9b1668cd-9a95-423a-ae63-2af6076e199d",
   "metadata": {},
   "outputs": [],
   "source": [
    "# In this case we are dropping rows. Rows containing null values are dropped from the DF.\n",
    "# You can also use the axis parameter to drop columns containing null values."
   ]
  },
  {
   "cell_type": "code",
   "execution_count": null,
   "id": "f0bd0eac-9356-48ba-9f1b-41e4f01e0d2e",
   "metadata": {},
   "outputs": [],
   "source": [
    "df.dropna(axis=1) # axis='column' also works"
   ]
  },
  {
   "cell_type": "code",
   "execution_count": null,
   "id": "df5952ad-2387-482f-a6df-a66d6090a6fb",
   "metadata": {},
   "outputs": [],
   "source": [
    "# In this case, any row or column that contains at least one null value will be dropped.\n",
    "# Which can be depending on the case, too extreme. You can control this behaviour with the \n",
    "# how parameter. Can be either 'any' or 'all'."
   ]
  },
  {
   "cell_type": "code",
   "execution_count": null,
   "id": "f9bac674-1133-4ed8-8259-85af525e61ad",
   "metadata": {},
   "outputs": [],
   "source": []
  },
  {
   "cell_type": "code",
   "execution_count": null,
   "id": "f6ca31ae-607b-4301-8f9d-edc5112427d1",
   "metadata": {},
   "outputs": [],
   "source": [
    "df2 = pd.DataFrame({\n",
    "    'Column A':[1, np.nan, 30],\n",
    "    'Column B': [2, np.nan, 31],\n",
    "    'Column C': [np.nan, np.nan, 100]})"
   ]
  },
  {
   "cell_type": "code",
   "execution_count": null,
   "id": "e43ddb74-bb9b-4062-967b-c25123862f00",
   "metadata": {},
   "outputs": [],
   "source": [
    "df2"
   ]
  },
  {
   "cell_type": "code",
   "execution_count": null,
   "id": "cc0f8a28-9ef1-4f39-a841-a07abfc6ce20",
   "metadata": {},
   "outputs": [],
   "source": [
    "df.dropna(how='all')"
   ]
  },
  {
   "cell_type": "code",
   "execution_count": null,
   "id": "269168c4-5a7e-440c-b664-743f9dc5f8af",
   "metadata": {},
   "outputs": [],
   "source": [
    "df.dropna(how='any') # default behavior"
   ]
  },
  {
   "cell_type": "code",
   "execution_count": null,
   "id": "992422f3-7197-47a7-9378-cf8055d1a247",
   "metadata": {},
   "outputs": [],
   "source": [
    "# You can also use the thresh parameter to indicate a threshold(a minimum number)\n",
    "# of null values for the row/column to be kept."
   ]
  },
  {
   "cell_type": "code",
   "execution_count": null,
   "id": "97658ef9-f8aa-45ae-9917-e892bcbac92c",
   "metadata": {},
   "outputs": [],
   "source": [
    "df"
   ]
  },
  {
   "cell_type": "code",
   "execution_count": null,
   "id": "710c7808-c6e9-4823-800d-07eca016956b",
   "metadata": {},
   "outputs": [],
   "source": [
    "df.dropna(thresh=3)"
   ]
  },
  {
   "cell_type": "code",
   "execution_count": null,
   "id": "01692d10-dace-406d-913b-d5ae693e96fe",
   "metadata": {},
   "outputs": [],
   "source": [
    "df.dropna(thresh=3, axis='columns')"
   ]
  },
  {
   "cell_type": "code",
   "execution_count": null,
   "id": "17950880-1eb2-4b87-a124-52ae9b33758b",
   "metadata": {},
   "outputs": [],
   "source": []
  },
  {
   "cell_type": "markdown",
   "id": "ff87a3b0-bd6a-4058-8efc-9416c601c61b",
   "metadata": {},
   "source": [
    "**Filling Null Values**"
   ]
  },
  {
   "cell_type": "code",
   "execution_count": null,
   "id": "07983d9b-0c83-4d8d-a3aa-e30a9865038b",
   "metadata": {},
   "outputs": [],
   "source": [
    "# Sometimes, instead of dropping the null values, we might need to replace them with\n",
    "# some other values. This highly depends on your context and the dataset you are currently working on.\n",
    "# Sometimes a nan can be replaced by a 0, or the mean of the sample, or the closest value.\n",
    "# There are different methods you can apply;"
   ]
  },
  {
   "cell_type": "code",
   "execution_count": null,
   "id": "df9ec833-f7ab-417f-afae-98233cac60d5",
   "metadata": {},
   "outputs": [],
   "source": [
    "s"
   ]
  },
  {
   "cell_type": "markdown",
   "id": "fc835b2d-2b7b-4152-a14f-38446f6a82e2",
   "metadata": {},
   "source": [
    "**Filling Nulls with arbitrary Values**"
   ]
  },
  {
   "cell_type": "code",
   "execution_count": null,
   "id": "d9b801c9-549d-4602-81d8-855796e29215",
   "metadata": {},
   "outputs": [],
   "source": [
    "s.fillna(0)"
   ]
  },
  {
   "cell_type": "code",
   "execution_count": null,
   "id": "143fe61a-daba-43e8-892c-4fb9811b9703",
   "metadata": {},
   "outputs": [],
   "source": [
    "s.fillna(s.mean())"
   ]
  },
  {
   "cell_type": "code",
   "execution_count": null,
   "id": "ea574286-b881-4a76-93eb-9de04735e874",
   "metadata": {},
   "outputs": [],
   "source": [
    "s"
   ]
  },
  {
   "cell_type": "markdown",
   "id": "e0836ea2-4acd-48e2-b24f-9abd2cf7fd8e",
   "metadata": {},
   "source": [
    "**Filling Nulls with contiguous(close) Values)**"
   ]
  },
  {
   "cell_type": "code",
   "execution_count": null,
   "id": "74faa81e-a260-4795-bec1-e2457c1f1a36",
   "metadata": {},
   "outputs": [],
   "source": [
    "# The method argument is used to fill null values with other values close to that null one."
   ]
  },
  {
   "cell_type": "code",
   "execution_count": null,
   "id": "8385d3c5-00b3-423a-a732-a1150e81eac7",
   "metadata": {},
   "outputs": [],
   "source": [
    "s.fillna(method='ffill')"
   ]
  },
  {
   "cell_type": "code",
   "execution_count": null,
   "id": "a14b02dd-7bb1-435d-bcf2-29ff0dcfbe2f",
   "metadata": {},
   "outputs": [],
   "source": [
    "s.fillna(method='bfill')"
   ]
  },
  {
   "cell_type": "code",
   "execution_count": null,
   "id": "223c3f36-0771-4845-92e4-b8d33140c0a2",
   "metadata": {},
   "outputs": [],
   "source": [
    "# This can still leave null values at the extremes of the Series/DataFrame"
   ]
  },
  {
   "cell_type": "code",
   "execution_count": null,
   "id": "328e2928-8206-4358-a19a-2c4cd425ee6a",
   "metadata": {},
   "outputs": [],
   "source": [
    "pd.Series([np.nan, 3, np.nan, 9]), fillna(method='ffill')"
   ]
  },
  {
   "cell_type": "code",
   "execution_count": null,
   "id": "48404fb4-91ce-4ffb-b14e-89f57445d946",
   "metadata": {},
   "outputs": [],
   "source": [
    "pd.Series([1, np.nan, 3, np.nan, np.nan]), fillna(method='bfill')"
   ]
  },
  {
   "cell_type": "code",
   "execution_count": null,
   "id": "08f7c7de-fda8-45e6-8929-d370bc0a21e5",
   "metadata": {},
   "outputs": [],
   "source": []
  },
  {
   "cell_type": "markdown",
   "id": "7fc4b8db-67c4-4e6d-82c0-5128137a0c93",
   "metadata": {},
   "source": [
    "**Filling Null Values on DataFrames**"
   ]
  },
  {
   "cell_type": "code",
   "execution_count": null,
   "id": "97c26dff-7f54-46be-acc0-f5b915366654",
   "metadata": {},
   "outputs": [],
   "source": [
    "# The fillna method also works on DataFrames and works similarly. the main diff\n",
    "# is that you can specify the axis(as usual, rows and columns) to use to fill the \n",
    "# the values(specially for methods) and you have more controls on the values passed."
   ]
  },
  {
   "cell_type": "code",
   "execution_count": null,
   "id": "f67d7301-ebe0-4645-ad41-a3749bb56755",
   "metadata": {},
   "outputs": [],
   "source": [
    "df"
   ]
  },
  {
   "cell_type": "code",
   "execution_count": null,
   "id": "63e99133-30a6-419d-9a66-db8e804b6637",
   "metadata": {},
   "outputs": [],
   "source": [
    "df.fillna({'column A' : 0, 'column B' : 99, 'column C' : df['column C'].mean()})"
   ]
  },
  {
   "cell_type": "code",
   "execution_count": null,
   "id": "4e510b9a-36c0-40bf-bee0-35eb699f188b",
   "metadata": {},
   "outputs": [],
   "source": [
    "df.fillna(method='ffill', axis=0)"
   ]
  },
  {
   "cell_type": "code",
   "execution_count": null,
   "id": "4146ec88-63e6-443d-8be0-75bb4e20b9ce",
   "metadata": {},
   "outputs": [],
   "source": [
    "df.fillna(method='ffill', axis=1)"
   ]
  },
  {
   "cell_type": "markdown",
   "id": "a6d6a93a-03ca-4600-b339-45e9e81d0aa9",
   "metadata": {},
   "source": []
  },
  {
   "cell_type": "markdown",
   "id": "f48efa9f-3af7-4772-89e2-bbdfa355d19b",
   "metadata": {},
   "source": [
    "**Checking if there are NAs**"
   ]
  },
  {
   "cell_type": "code",
   "execution_count": null,
   "id": "b4767c55-ef0d-458a-9fa2-7bd9ab6f2f0a",
   "metadata": {},
   "outputs": [],
   "source": [
    "# The question is, does this Series or DataFrame contain any missing value?\n",
    "# The answer should be yes or no, True or False.How can you verify it?"
   ]
  },
  {
   "cell_type": "code",
   "execution_count": null,
   "id": "c8e156a9-74e0-496c-bbed-70505f5b7748",
   "metadata": {},
   "outputs": [],
   "source": [
    "# Eg 1; Checking the Length\n",
    "\n",
    "# If there are missing values, s.dropna() will have lesser values than s."
   ]
  },
  {
   "cell_type": "code",
   "execution_count": null,
   "id": "0fd17bfa-f51e-4cd3-b4db-b331085fbb58",
   "metadata": {},
   "outputs": [],
   "source": [
    "# This can still leave null values at the extremes of the Series/DataFrame"
   ]
  },
  {
   "cell_type": "code",
   "execution_count": null,
   "id": "f8d800e2-36ea-4726-9e19-2bd90cfe8fef",
   "metadata": {},
   "outputs": [],
   "source": [
    "s.dropna().count()"
   ]
  },
  {
   "cell_type": "code",
   "execution_count": null,
   "id": "3a1efa70-cc34-41e8-8a06-24a9326aef2d",
   "metadata": {},
   "outputs": [],
   "source": [
    "missing_values = len(s.dropna()) != len(s)\n",
    "missing_values\n",
    "                                       "
   ]
  },
  {
   "cell_type": "code",
   "execution_count": null,
   "id": "bc24267e-76f6-4036-b6aa-7032f1158c91",
   "metadata": {},
   "outputs": [],
   "source": [
    "# There's also a count method that excludes nan s from its result"
   ]
  },
  {
   "cell_type": "code",
   "execution_count": null,
   "id": "b1b4e4c9-7851-4f2a-bb28-023d1d900563",
   "metadata": {},
   "outputs": [],
   "source": [
    "len(s)"
   ]
  },
  {
   "cell_type": "code",
   "execution_count": null,
   "id": "e24f4473-f4c2-469c-84b8-cd8c9b0c1068",
   "metadata": {},
   "outputs": [],
   "source": [
    "s.count()"
   ]
  },
  {
   "cell_type": "code",
   "execution_count": null,
   "id": "72a06ff8-31c2-4297-8b54-1df658ba5261",
   "metadata": {},
   "outputs": [],
   "source": [
    "# So we could just do;"
   ]
  },
  {
   "cell_type": "code",
   "execution_count": null,
   "id": "0d7069bd-5264-4a6c-bc40-773726255784",
   "metadata": {},
   "outputs": [],
   "source": [
    "missing_values = len(s.dropna()) != len(s)\n",
    "missing_values"
   ]
  },
  {
   "cell_type": "markdown",
   "id": "a6abd0ed-efe1-4ec2-a3a8-6c0e535442a9",
   "metadata": {},
   "source": [
    "**More Pythonic Solution 'any'**"
   ]
  },
  {
   "cell_type": "code",
   "execution_count": null,
   "id": "90f11e19-e2f8-4d5b-bab5-6e29af714951",
   "metadata": {},
   "outputs": [],
   "source": [
    "# The methods any and all check if either there's any true value in a Series\n",
    "# or all the values are true. They work in the same way as in Python."
   ]
  },
  {
   "cell_type": "code",
   "execution_count": null,
   "id": "89c58c90-4d47-4e46-a9b2-86b9d8d714fe",
   "metadata": {},
   "outputs": [],
   "source": [
    "pd.Series([True, False, False]).any()"
   ]
  },
  {
   "cell_type": "code",
   "execution_count": null,
   "id": "c77623fc-ace3-4e2d-a085-419afd0941b4",
   "metadata": {},
   "outputs": [],
   "source": [
    "pd.Series([True, False, False]).all()"
   ]
  },
  {
   "cell_type": "code",
   "execution_count": null,
   "id": "1cdf4e72-b123-4ef2-8286-63fce46b3b69",
   "metadata": {},
   "outputs": [],
   "source": [
    "pd.Series([True, True, True]).all()"
   ]
  },
  {
   "cell_type": "code",
   "execution_count": null,
   "id": "16c1392d-2e87-4d7a-a4c2-ae5d3011732b",
   "metadata": {},
   "outputs": [],
   "source": [
    "# The isnull() method returned a boolean Series with True values\n",
    "# wherever there was a nan:"
   ]
  },
  {
   "cell_type": "code",
   "execution_count": null,
   "id": "84716231-1641-4548-a7aa-fea09c55df4e",
   "metadata": {},
   "outputs": [],
   "source": [
    "s.isnull()"
   ]
  },
  {
   "cell_type": "code",
   "execution_count": null,
   "id": "bc269aff-ea22-4f7d-99fa-eae9bf2bb9be",
   "metadata": {},
   "outputs": [],
   "source": [
    "# So we can just use the any method with the boolean array returned"
   ]
  },
  {
   "cell_type": "code",
   "execution_count": null,
   "id": "05458852-7946-48a1-8de2-17e258b38209",
   "metadata": {},
   "outputs": [],
   "source": [
    "pd.Series([1, np.nan]).isnull().any()"
   ]
  },
  {
   "cell_type": "code",
   "execution_count": null,
   "id": "497b44a2-c22a-478d-870e-15de7f47adec",
   "metadata": {},
   "outputs": [],
   "source": [
    "pd.Series([1, 2]).isnull().any()"
   ]
  },
  {
   "cell_type": "code",
   "execution_count": null,
   "id": "c7215fb8-3332-46bf-9f6a-09d802629fe5",
   "metadata": {},
   "outputs": [],
   "source": [
    "s.isnull().any()"
   ]
  },
  {
   "cell_type": "code",
   "execution_count": null,
   "id": "8d92f066-25ae-4772-afd5-8e680fdcc46e",
   "metadata": {},
   "outputs": [],
   "source": []
  },
  {
   "cell_type": "markdown",
   "id": "a495d8c8-dcc5-4afd-8e29-ced270e9266a",
   "metadata": {},
   "source": [
    "**Cleaning Not-Null Values**"
   ]
  },
  {
   "cell_type": "code",
   "execution_count": null,
   "id": "691f975d-60cd-4279-b1fc-c00f74c09fcc",
   "metadata": {},
   "outputs": [],
   "source": [
    "import numpy as np\n",
    "import pandas as pd"
   ]
  },
  {
   "cell_type": "code",
   "execution_count": null,
   "id": "e74b2ba0-31f7-441b-a0f0-7fd72865dabb",
   "metadata": {},
   "outputs": [],
   "source": [
    "df = pd.DataFrame({\n",
    "    'Sex': ['M', 'F', 'F', 'D', '?'],\n",
    "    'Age': [29, 30, 24, 290, 25],})\n",
    "df"
   ]
  },
  {
   "cell_type": "code",
   "execution_count": null,
   "id": "c39ae7b7-8ec6-4736-b42f-f6b94a9eaa17",
   "metadata": {},
   "outputs": [],
   "source": [
    "# The above DataFrame does'nt have any 'missing value', but clearly has invalid data.\n",
    "# 290 isn't a valid age,and D and ? is not in any known sex category.\n",
    "# How can you clean these not missing but clearly invalid values then?"
   ]
  },
  {
   "cell_type": "markdown",
   "id": "681cba03-3bca-4fab-81bb-92b2f7c025f4",
   "metadata": {},
   "source": [
    "**Finding Unique Values**"
   ]
  },
  {
   "cell_type": "code",
   "execution_count": null,
   "id": "cefd2a89-d3b6-4478-851f-91d3b036248c",
   "metadata": {},
   "outputs": [],
   "source": [
    "# The firdt step to clean invalid values is to notice them, then identify them and handle them appropriately\n",
    "# (remove them, replace them, etc). Usually for a categorical type of field like 'sex' which only takes values of\n",
    "# a discreet set,('M' 'F'), we start by analysing the variety of values present. For that, we use the unique() method."
   ]
  },
  {
   "cell_type": "code",
   "execution_count": null,
   "id": "bd984bf6-1bf8-4bd9-8ce9-35eb5dfa23a7",
   "metadata": {},
   "outputs": [],
   "source": [
    "df['Sex'].unique()"
   ]
  },
  {
   "cell_type": "code",
   "execution_count": null,
   "id": "29142e75-a904-414e-91b2-8b6e3802f7aa",
   "metadata": {},
   "outputs": [],
   "source": [
    "df['Sex'].replace('D' 'F')"
   ]
  },
  {
   "cell_type": "code",
   "execution_count": null,
   "id": "0f0b3929-d9fa-45ba-9359-d1bf648362e4",
   "metadata": {},
   "outputs": [],
   "source": [
    "# It can accept a dictionary of values to replace. Eg, they also told you that there might be a few\n",
    "# 'N's that shouls actually be 'M's"
   ]
  },
  {
   "cell_type": "code",
   "execution_count": null,
   "id": "7b5d3d79-9602-4bbf-beea-846f76919c8b",
   "metadata": {},
   "outputs": [],
   "source": [
    "df['Sex'].replace({'D':'F', 'N':'M'})"
   ]
  },
  {
   "cell_type": "code",
   "execution_count": null,
   "id": "4436d072-2bda-4ea1-91e5-fdf9f1df0582",
   "metadata": {},
   "outputs": [],
   "source": [
    "# If you have many columns to replace, you could apply it at 'DataFrame level'"
   ]
  },
  {
   "cell_type": "code",
   "execution_count": null,
   "id": "8e08ff8e-a8b7-497a-ba75-4fc63c5f3de7",
   "metadata": {},
   "outputs": [],
   "source": [
    "df.replace({\n",
    "    'Sex': {'D':'F', 'N':'M'},\n",
    "    'Age': {290:29}})"
   ]
  },
  {
   "cell_type": "code",
   "execution_count": null,
   "id": "173f5e45-97b4-4c84-9a9d-da17fc636b29",
   "metadata": {},
   "outputs": [],
   "source": [
    "# Above, we replaced 290 with 29, assuming it was just an extra 0 entered at data-entry phase.\n",
    "# If we would like to remove all the extra 0s from the ages column? Eg,\n",
    "# (150 > 15, 490 > 49)."
   ]
  },
  {
   "cell_type": "code",
   "execution_count": null,
   "id": "e89fbd22-a9c1-484f-819e-d384172101fb",
   "metadata": {},
   "outputs": [],
   "source": [
    "# The first step would be to just set the limit of the 'Not Possible'age.is it 100? 120?\n",
    "# Let's say that anything above 100 isn't credible for our dataset. We can then combine boolean\n",
    "# boolean selection with the operation."
   ]
  },
  {
   "cell_type": "code",
   "execution_count": null,
   "id": "cecc8bf0-7419-40c3-b8a6-dda0ad1211ad",
   "metadata": {},
   "outputs": [],
   "source": [
    "df[df['Age']>100]"
   ]
  },
  {
   "cell_type": "code",
   "execution_count": null,
   "id": "d6563d68-137f-4d67-815f-59da4998cd3c",
   "metadata": {},
   "outputs": [],
   "source": [
    "# And we can now just divide by 10"
   ]
  },
  {
   "cell_type": "code",
   "execution_count": null,
   "id": "b300d021-1755-4737-84a5-b8f5cfdd94ec",
   "metadata": {},
   "outputs": [],
   "source": [
    "df.loc[df['Age'] > 100, 'Age'] = df.loc[df['Age'] > 100, 'Age'] / 10"
   ]
  },
  {
   "cell_type": "code",
   "execution_count": null,
   "id": "04a11780-a31a-44cb-8334-6414e8034905",
   "metadata": {},
   "outputs": [],
   "source": [
    "df"
   ]
  },
  {
   "cell_type": "markdown",
   "id": "7a6d9464-2f62-4571-9c61-3b0d794dbfd8",
   "metadata": {},
   "source": [
    "**Duplicates**"
   ]
  },
  {
   "cell_type": "code",
   "execution_count": null,
   "id": "b6ffdb9b-7acc-4dc5-925b-1794fa1ff2ac",
   "metadata": {},
   "outputs": [],
   "source": [
    "# Checking Duplicate values is simple.It will behave differently bw Series and DataFrames. Let's start with Series,eg\n",
    "# let's say we are throwing a fancy party and we are inviting ambassadors from Europe, but can only invite one ambassador percountry.\n",
    "# This is our original list, and as seen, both the Uk and Germany have duplicated ambassadors:"
   ]
  },
  {
   "cell_type": "code",
   "execution_count": null,
   "id": "9b2c2e5d-b52d-4e59-8922-1726f26034a3",
   "metadata": {},
   "outputs": [],
   "source": [
    "ambassadors = pd.Series([\n",
    "    'France', 'United Kingdom', 'United Kingdom', 'Italy', 'Germany', 'Germany', 'Germany',],\n",
    "    index=['Gerard Araud','Kim Darroch','Peter Westmacott','Armando Varricchio',\n",
    "           'Peter Wittig','Peter Ammon','Klaus Scharioth'])"
   ]
  },
  {
   "cell_type": "code",
   "execution_count": null,
   "id": "574f6509-6a35-4555-be70-7ed62aed549b",
   "metadata": {},
   "outputs": [],
   "source": [
    "ambassadors"
   ]
  },
  {
   "cell_type": "code",
   "execution_count": null,
   "id": "beacd3c4-1f26-4f10-a419-48b8d8bf9d67",
   "metadata": {},
   "outputs": [],
   "source": [
    "# The two most important methods to deal with duplicates are duplicated(that will tell you which values are duplicated)\n",
    "# and drop_duplicates(which will just get rid of duplicates)"
   ]
  },
  {
   "cell_type": "code",
   "execution_count": null,
   "id": "51fc2fcc-e79e-417e-bc40-eeb45c258c46",
   "metadata": {},
   "outputs": [],
   "source": [
    "ambassadors.duplicated()"
   ]
  },
  {
   "cell_type": "code",
   "execution_count": null,
   "id": "01d7982b-2f9f-4018-8edc-1eedeec49082",
   "metadata": {},
   "outputs": [],
   "source": [
    "# In this case duplicated didnt consider 'Kim Darroch' the first instance of the United Kingdom or 'Peter Wittig' as duplicates.\n",
    "# That's because by default, it will consider the first occurrence of the value as not-duplicate.\n",
    "# You can change this behaviour with the keep parameter."
   ]
  },
  {
   "cell_type": "code",
   "execution_count": null,
   "id": "767bd651-8df8-47cc-a4c4-3493f697d961",
   "metadata": {},
   "outputs": [],
   "source": [
    "ambassadors.duplicated(keep='last')"
   ]
  },
  {
   "cell_type": "code",
   "execution_count": null,
   "id": "b4875ca2-3914-4d26-85f5-d4e22986c9f4",
   "metadata": {},
   "outputs": [],
   "source": [
    "# In this case, the result is 'flipped', 'Kim Darroch'and 'Peter Wittig' (The 1st ambassadors of their countries) are considered duplicates,\n",
    "# but 'Peter Westmacott' and 'Klaus Scharioth' are not duplicates. You can also choose to mark all of them with keep=False:"
   ]
  },
  {
   "cell_type": "code",
   "execution_count": null,
   "id": "31404a88-b778-4273-9203-b58927242284",
   "metadata": {},
   "outputs": [],
   "source": [
    "ambassadors.duplicated(keep = False)"
   ]
  },
  {
   "cell_type": "markdown",
   "id": "e190bc63-9df8-4122-8067-a06fa50e95c4",
   "metadata": {},
   "source": [
    "**Duplicates in DataFrames**"
   ]
  },
  {
   "cell_type": "code",
   "execution_count": null,
   "id": "4a39766f-6e15-4c34-a763-94ff29ef50de",
   "metadata": {},
   "outputs": [],
   "source": [
    "# Conceptually speaking,duplicates in a DataFrame happen at 'row'level.\n",
    "# Two rows with exactly the same values are considered to be duplicates."
   ]
  },
  {
   "cell_type": "code",
   "execution_count": null,
   "id": "febf9dff-60f7-4601-83ba-2152fd17b7c3",
   "metadata": {},
   "outputs": [],
   "source": [
    "players = pd.DataFrame({'Name':['Kobe Bryant','Lebron James','Kobe Bryant','Carmelo Anthony','Kobe Bryant',],\n",
    "                        'Pos':['SG','SF','SG','SF','SF']})\n",
    "    "
   ]
  },
  {
   "cell_type": "code",
   "execution_count": null,
   "id": "d75d2ec7-c638-47a1-a9aa-0bab6611f30f",
   "metadata": {},
   "outputs": [],
   "source": [
    "players"
   ]
  },
  {
   "cell_type": "code",
   "execution_count": null,
   "id": "ff87ad4c-4886-4ba9-9834-43428489b297",
   "metadata": {},
   "outputs": [],
   "source": [
    "# In the previous DataFrame, we clearly see that Kobe is duplicated, but he appears with 2 difft\n",
    "# positions. What does duplicated say?"
   ]
  },
  {
   "cell_type": "code",
   "execution_count": null,
   "id": "87314847-188b-4b6d-9032-1fccc4b87edd",
   "metadata": {},
   "outputs": [],
   "source": [
    "players.duplicated()"
   ]
  },
  {
   "cell_type": "code",
   "execution_count": null,
   "id": "b68a56bc-0ef7-408f-8cc8-209118d138d4",
   "metadata": {},
   "outputs": [],
   "source": [
    "# Again conceptually, 'duplicated' means 'all the column values should be duplicates'.\n",
    "# We can customise this with the subset parameter"
   ]
  },
  {
   "cell_type": "code",
   "execution_count": null,
   "id": "696d8c2e-95be-4c9d-adfb-912002330113",
   "metadata": {},
   "outputs": [],
   "source": [
    "players.duplicated((subset=['Name'])"
   ]
  },
  {
   "cell_type": "code",
   "execution_count": null,
   "id": "ffbbbdae-68e3-4156-a96e-d6dcfa970b29",
   "metadata": {},
   "outputs": [],
   "source": [
    "# and the same rules of keep still apply:"
   ]
  },
  {
   "cell_type": "code",
   "execution_count": null,
   "id": "876fe491-bd89-4087-afc1-206b3c56fb2d",
   "metadata": {},
   "outputs": [],
   "source": [
    "players.duplicated((subset=['Name'],keep='last')"
   ]
  },
  {
   "cell_type": "code",
   "execution_count": null,
   "id": "be6cdcf7-0695-4205-b9df-5568bebfa5b3",
   "metadata": {},
   "outputs": [],
   "source": [
    "# drop_duplicates takes the same parameters"
   ]
  },
  {
   "cell_type": "code",
   "execution_count": null,
   "id": "b73c4872-69ce-46c8-b613-d1564e024671",
   "metadata": {},
   "outputs": [],
   "source": [
    "players.drop_duplicates()"
   ]
  },
  {
   "cell_type": "code",
   "execution_count": null,
   "id": "04e2adbf-3bd7-44e7-aea9-c77436990309",
   "metadata": {},
   "outputs": [],
   "source": [
    "players.drop_duplicates(subset=['Name']"
   ]
  },
  {
   "cell_type": "code",
   "execution_count": null,
   "id": "78a17381-2ee7-4427-a956-3f497f9e33e9",
   "metadata": {},
   "outputs": [],
   "source": [
    "players.drop_duplicates(subset=['Name'],keep='Last')"
   ]
  },
  {
   "cell_type": "markdown",
   "id": "94b36620-2c40-4f1e-a909-1ae12e018135",
   "metadata": {},
   "source": [
    "**Text Handling**"
   ]
  },
  {
   "cell_type": "code",
   "execution_count": null,
   "id": "018f9014-ce8a-42d5-9c7e-16a289d3c038",
   "metadata": {},
   "outputs": [],
   "source": [
    "# Cleaning text values can be hard,invalid text values involves 99% of the time, mistyping, which is completely unpredictable\n",
    "# and doesnt follow any pattern.Thankfully, it's not so common these days, where data entrytasks have been replaced by machines.\n",
    "# Still let's explore the most common cases;"
   ]
  },
  {
   "cell_type": "markdown",
   "id": "c02f6f81-62ce-4f0e-b7e8-5774f2b31a04",
   "metadata": {},
   "source": [
    "**Splitting Columns**"
   ]
  },
  {
   "cell_type": "code",
   "execution_count": null,
   "id": "515cfa6b-6d07-4d75-9a3c-b5f9a9bbe639",
   "metadata": {},
   "outputs": [],
   "source": [
    "# The result of a survey is loaded and this is what you get"
   ]
  },
  {
   "cell_type": "code",
   "execution_count": null,
   "id": "5ee055a5-8000-40fb-88b2-4665f9743cd2",
   "metadata": {},
   "outputs": [],
   "source": [
    "pd = df.DataFrame({'Data':['1987_M_US_1', '1990?_M_UK_1','1992_F_US_2','1970?_M_  IT_1','1985_F_I T_2']})"
   ]
  },
  {
   "cell_type": "code",
   "execution_count": null,
   "id": "57c8f5ad-c576-4cba-8e47-88a7ab493176",
   "metadata": {},
   "outputs": [],
   "source": [
    "df"
   ]
  },
  {
   "cell_type": "code",
   "execution_count": null,
   "id": "9ebad1f6-08e0-4830-bd2c-7aa12fe693ae",
   "metadata": {},
   "outputs": [],
   "source": [
    "# The single columns represent the values; year,Sex,country,and number of children, but it's all been grouped in\n",
    "# the same column and seperated by an underscore. Pandas has a convenient method named 'split' that we can use in these situations."
   ]
  },
  {
   "cell_type": "code",
   "execution_count": null,
   "id": "4998c6bc-ffd6-46e1-ba68-96d906285da2",
   "metadata": {},
   "outputs": [],
   "source": [
    "df['Data'].str.split('_')"
   ]
  },
  {
   "cell_type": "code",
   "execution_count": null,
   "id": "b1a08236-e36b-4cde-a5de-37ac7893c601",
   "metadata": {},
   "outputs": [],
   "source": [
    "df['Data'].str.split('_', expand=True)"
   ]
  },
  {
   "cell_type": "code",
   "execution_count": null,
   "id": "00e0abb7-90a1-435c-8df2-214effc08bf3",
   "metadata": {},
   "outputs": [],
   "source": [
    "df = df['Data'].str.split('_', expand=True)"
   ]
  },
  {
   "cell_type": "code",
   "execution_count": null,
   "id": "a3c12c54-9ee0-492a-9a74-a3eca4729b98",
   "metadata": {},
   "outputs": [],
   "source": [
    "df.columns = ['Year', 'Sex', 'Country', 'No Children']"
   ]
  },
  {
   "cell_type": "code",
   "execution_count": null,
   "id": "79ff3aa2-fc30-4594-a48b-cb6a8b4ae62f",
   "metadata": {},
   "outputs": [],
   "source": [
    "# You can also check which columns contain a given value with the 'contains' method."
   ]
  },
  {
   "cell_type": "code",
   "execution_count": null,
   "id": "35c08592-678d-49ec-8e2c-a7474ab0ef52",
   "metadata": {},
   "outputs": [],
   "source": [
    "df"
   ]
  },
  {
   "cell_type": "code",
   "execution_count": null,
   "id": "d0f9146e-ded3-45b1-97ff-f4053bfd847c",
   "metadata": {},
   "outputs": [],
   "source": [
    "df['Year'].str.contains('\\?')"
   ]
  },
  {
   "cell_type": "code",
   "execution_count": null,
   "id": "8527fa7b-0241-4809-94f8-d86ebe922c66",
   "metadata": {},
   "outputs": [],
   "source": [
    "# 'contains'takes a regex/pattern as first value, so we need to escape the ? symbol as it has\n",
    "# a special meaning for these patterns. Regular letters dont need escaping:"
   ]
  },
  {
   "cell_type": "code",
   "execution_count": null,
   "id": "5cec5c37-2011-49e7-8ba5-cfdf04d88f1b",
   "metadata": {},
   "outputs": [],
   "source": [
    "df['Country'].string.contains('U')"
   ]
  },
  {
   "cell_type": "code",
   "execution_count": null,
   "id": "96c3facd-e239-4fcf-8197-ed1e32a1a6d4",
   "metadata": {},
   "outputs": [],
   "source": [
    "# Removing blank spaces(like in 'US' or 'I T' can be achieved with strip(lstrip and rstrip\n",
    "# also exist)or just replace:"
   ]
  },
  {
   "cell_type": "code",
   "execution_count": null,
   "id": "d75e0fb8-f4ab-478d-8a58-2646e72e7326",
   "metadata": {},
   "outputs": [],
   "source": [
    "df['Country'].str.strip()"
   ]
  },
  {
   "cell_type": "code",
   "execution_count": null,
   "id": "4d555e0f-39c9-4151-9b6a-110f072504fe",
   "metadata": {},
   "outputs": [],
   "source": [
    "df['Country'].str.replace(' ','')"
   ]
  },
  {
   "cell_type": "code",
   "execution_count": null,
   "id": "ef031316-62e1-4d77-bb50-16d4576a67d0",
   "metadata": {},
   "outputs": [],
   "source": [
    "# As we said, replace and contains take regex patterns, which can make it easier to replace values in bulk:"
   ]
  },
  {
   "cell_type": "code",
   "execution_count": null,
   "id": "176c0eeb-d0b9-4ca9-8877-351ae1523a80",
   "metadata": {},
   "outputs": [],
   "source": [
    "df['Year'].str.replace(r'(?P>year<\\d{4})\\?', lambda n: n.group('year'))"
   ]
  },
  {
   "cell_type": "code",
   "execution_count": null,
   "id": "1aac40a6-df89-4d89-ab59-63ad61ef34f3",
   "metadata": {},
   "outputs": [],
   "source": [
    "# But, be warned;\n",
    "# Some people when confronted with a problem, think'I know I'll use regular expressions' Now they have two problems:\n",
    "# As you can see, all these string/text-related operations are applied over the str attribute of the Series.\n",
    "# That's beacause they have a special place in Series handling and you can read more about it "
   ]
  },
  {
   "cell_type": "code",
   "execution_count": null,
   "id": "b74ad11e-82f9-448a-839d-fb7b3779e060",
   "metadata": {},
   "outputs": [],
   "source": []
  },
  {
   "cell_type": "code",
   "execution_count": null,
   "id": "e6517063-9431-4f52-b248-4d2bb9a130b1",
   "metadata": {},
   "outputs": [],
   "source": []
  },
  {
   "cell_type": "code",
   "execution_count": null,
   "id": "13bb588c-53d9-4b74-b1dd-3f113ee4f812",
   "metadata": {},
   "outputs": [],
   "source": []
  },
  {
   "cell_type": "code",
   "execution_count": null,
   "id": "c044d58d-812c-48c9-a743-ebfc97f1364c",
   "metadata": {},
   "outputs": [],
   "source": []
  },
  {
   "cell_type": "code",
   "execution_count": null,
   "id": "7132ad34-c851-4a91-b1aa-3b697b7ec60e",
   "metadata": {},
   "outputs": [],
   "source": []
  },
  {
   "cell_type": "code",
   "execution_count": null,
   "id": "968a311d-1e80-4be2-8df2-e5a0d9c31082",
   "metadata": {},
   "outputs": [],
   "source": []
  },
  {
   "cell_type": "code",
   "execution_count": null,
   "id": "f88d819e-11d7-473c-b5ec-cd9e8f789319",
   "metadata": {},
   "outputs": [],
   "source": []
  },
  {
   "cell_type": "code",
   "execution_count": null,
   "id": "51264cb2-080e-4733-97d2-47b2489a24b9",
   "metadata": {},
   "outputs": [],
   "source": []
  },
  {
   "cell_type": "code",
   "execution_count": null,
   "id": "a25f611c-fdee-4149-a5a6-6b2a390cb283",
   "metadata": {},
   "outputs": [],
   "source": []
  },
  {
   "cell_type": "code",
   "execution_count": null,
   "id": "35aaebbf-97e2-4a62-bb64-11f92d2370c0",
   "metadata": {},
   "outputs": [],
   "source": []
  },
  {
   "cell_type": "code",
   "execution_count": null,
   "id": "dea3c1e3-c7bb-4998-9ea5-153b3817f485",
   "metadata": {},
   "outputs": [],
   "source": []
  },
  {
   "cell_type": "code",
   "execution_count": null,
   "id": "80d55981-12ea-404c-b8bd-1f514d93217e",
   "metadata": {},
   "outputs": [],
   "source": []
  },
  {
   "cell_type": "code",
   "execution_count": null,
   "id": "e654a163-f3ff-4a87-b0be-c001e5c5768a",
   "metadata": {},
   "outputs": [],
   "source": []
  },
  {
   "cell_type": "code",
   "execution_count": null,
   "id": "285c25a8-c321-414a-b5ba-1fd706de6ac5",
   "metadata": {},
   "outputs": [],
   "source": []
  },
  {
   "cell_type": "code",
   "execution_count": null,
   "id": "f128f4ea-5420-4cd0-b33f-0b6d1dadfc98",
   "metadata": {},
   "outputs": [],
   "source": []
  },
  {
   "cell_type": "code",
   "execution_count": null,
   "id": "857ae12b-f3fa-44da-a93a-45b36f4a3f52",
   "metadata": {},
   "outputs": [],
   "source": []
  },
  {
   "cell_type": "markdown",
   "id": "b812470b-afd0-4ba9-841e-b213b7429138",
   "metadata": {},
   "source": [
    "#### DATA CLEANING IN PYTHON WORKING WITH DATA TEXT"
   ]
  },
  {
   "cell_type": "markdown",
   "id": "4901ff3f-18d0-4566-a916-9d8867756c94",
   "metadata": {},
   "source": [
    "#### Data Cleaning In Python"
   ]
  },
  {
   "cell_type": "code",
   "execution_count": null,
   "id": "ecbd2bed-878f-497a-8320-166723b12590",
   "metadata": {},
   "outputs": [],
   "source": [
    "# Working with text data\n",
    "# Split a column into multiple columns\n",
    "# Joining two columns\n",
    "# Removing words, expression\n",
    "# Searching for strings and expressions\n",
    "# Replacing words"
   ]
  },
  {
   "cell_type": "code",
   "execution_count": null,
   "id": "d493d312-7314-43b6-94e7-6550affc2673",
   "metadata": {},
   "outputs": [],
   "source": []
  },
  {
   "cell_type": "code",
   "execution_count": null,
   "id": "811dc44a-74d9-4bda-b4c1-08ffb30174eb",
   "metadata": {},
   "outputs": [],
   "source": [
    "# Load packages\n",
    "\n",
    "import pandas as pd\n",
    "import numpy as np"
   ]
  },
  {
   "cell_type": "code",
   "execution_count": null,
   "id": "5f7a7944-4157-4256-bc40-f8d682ae0774",
   "metadata": {},
   "outputs": [],
   "source": [
    "df = pd.read_csv(\"C:\\\\Users\\\\Amaka\\\\Desktop\\\\DS FILES\\\\Unclean+data+set+for+Data+Cleaning+Lesson.csv\")"
   ]
  },
  {
   "cell_type": "code",
   "execution_count": null,
   "id": "a476163e-a57e-497a-a6e9-e84aca6eb1b1",
   "metadata": {},
   "outputs": [],
   "source": [
    "df = pd.read_csv(\"C:\\\\Users\\\\Amaka\\\\Desktop\\\\DS FILES\\\\Unclean+data+set+for+Data+Cleaning+Lesson.csv\", encoding='latin1')"
   ]
  },
  {
   "cell_type": "code",
   "execution_count": null,
   "id": "2d3e7d6a-9746-4689-a642-03c9a9c3d6d9",
   "metadata": {},
   "outputs": [],
   "source": [
    "df.head()"
   ]
  },
  {
   "cell_type": "code",
   "execution_count": null,
   "id": "c8c0f9d9-1a22-434c-8e18-653116f92c35",
   "metadata": {},
   "outputs": [],
   "source": [
    "# Load dataset"
   ]
  },
  {
   "cell_type": "code",
   "execution_count": null,
   "id": "e6bd7f2b-a878-4f1b-9922-1107c146aa04",
   "metadata": {},
   "outputs": [],
   "source": [
    "df = pd.read_csv(\"C:\\\\Users\\\\Amaka\\\\Desktop\\\\DS FILES\\\\Unclean+data+set+for+Data+Cleaning+Lesson.csv\")\n",
    "df.head()"
   ]
  },
  {
   "cell_type": "code",
   "execution_count": null,
   "id": "a23d492a-195f-4b45-bebc-048c28cf8493",
   "metadata": {},
   "outputs": [],
   "source": [
    "df.columns"
   ]
  },
  {
   "cell_type": "code",
   "execution_count": null,
   "id": "42f9b993-424a-48c2-8ab1-4858eac5886f",
   "metadata": {},
   "outputs": [],
   "source": [
    "df.columns.str.lower()"
   ]
  },
  {
   "cell_type": "code",
   "execution_count": null,
   "id": "5fb8879a-b1e8-4429-a86b-1b7701d43157",
   "metadata": {},
   "outputs": [],
   "source": [
    "df.columns = df.columns.str.lower()"
   ]
  },
  {
   "cell_type": "code",
   "execution_count": null,
   "id": "297984de-9ca3-4d7b-a554-1423f0f9e6f5",
   "metadata": {},
   "outputs": [],
   "source": [
    "# Renaming Columns:\n",
    "\n",
    "df.rename(columns={'full name':'full_name','date of birth':'date_of_birth'})"
   ]
  },
  {
   "cell_type": "code",
   "execution_count": 10,
   "id": "d718aed3-1194-4a2c-8d1e-edbd18f3fdc2",
   "metadata": {},
   "outputs": [
    {
     "ename": "NameError",
     "evalue": "name 'df' is not defined",
     "output_type": "error",
     "traceback": [
      "\u001b[1;31m---------------------------------------------------------------------------\u001b[0m",
      "\u001b[1;31mNameError\u001b[0m                                 Traceback (most recent call last)",
      "\u001b[1;32m~\\AppData\\Local\\Temp/ipykernel_10296/1175745934.py\u001b[0m in \u001b[0;36m<module>\u001b[1;34m\u001b[0m\n\u001b[1;32m----> 1\u001b[1;33m \u001b[0mdf\u001b[0m\u001b[1;33m.\u001b[0m\u001b[0mrename\u001b[0m\u001b[1;33m(\u001b[0m\u001b[0mcolumns\u001b[0m\u001b[1;33m=\u001b[0m\u001b[1;33m{\u001b[0m\u001b[1;34m'full name'\u001b[0m\u001b[1;33m:\u001b[0m\u001b[1;34m'full_name'\u001b[0m\u001b[1;33m,\u001b[0m\u001b[1;34m'date of birth'\u001b[0m\u001b[1;33m:\u001b[0m\u001b[1;34m'date_of_birth'\u001b[0m\u001b[1;33m}\u001b[0m\u001b[1;33m,\u001b[0m\u001b[0minplace\u001b[0m\u001b[1;33m=\u001b[0m\u001b[1;32mTrue\u001b[0m\u001b[1;33m)\u001b[0m\u001b[1;33m\u001b[0m\u001b[1;33m\u001b[0m\u001b[0m\n\u001b[0m",
      "\u001b[1;31mNameError\u001b[0m: name 'df' is not defined"
     ]
    }
   ],
   "source": [
    "df.rename(columns={'full name':'full_name','date of birth':'date_of_birth'},inplace=True)"
   ]
  },
  {
   "cell_type": "markdown",
   "id": "834f2cb5-6bc9-4224-86f4-cbc0a56ffc88",
   "metadata": {},
   "source": [
    "**Splitting Column into Multiple**"
   ]
  },
  {
   "cell_type": "code",
   "execution_count": null,
   "id": "d32d3ee7-cf28-4be6-a36f-ddf10c6a0bfb",
   "metadata": {},
   "outputs": [],
   "source": [
    "# Method 1\n",
    "\n",
    "df.full_name"
   ]
  },
  {
   "cell_type": "code",
   "execution_count": null,
   "id": "d7f8d6e9-b63a-45f8-bdb5-b31b47be83d1",
   "metadata": {},
   "outputs": [],
   "source": [
    "df.full_name.str.split(\" \")"
   ]
  },
  {
   "cell_type": "code",
   "execution_count": null,
   "id": "ea4a2e23-0cff-41aa-a530-ca6ffa83f186",
   "metadata": {},
   "outputs": [],
   "source": [
    "df.full_name.str.split(\" \")[0]"
   ]
  },
  {
   "cell_type": "code",
   "execution_count": null,
   "id": "84d13d44-ce4b-4716-85d0-6c4cd62f6b3a",
   "metadata": {},
   "outputs": [],
   "source": []
  },
  {
   "cell_type": "code",
   "execution_count": null,
   "id": "9b551441-8313-4b4b-8837-fa2b08f8af2b",
   "metadata": {},
   "outputs": [],
   "source": [
    "df.full_name.str.split(\" \").str.get(0)"
   ]
  },
  {
   "cell_type": "code",
   "execution_count": null,
   "id": "0c50a39a-daf6-4ec9-a5aa-08a24c2da49c",
   "metadata": {},
   "outputs": [],
   "source": [
    "df['firstname'] = df.full_name.str.split(\" \").str.get(0)"
   ]
  },
  {
   "cell_type": "code",
   "execution_count": null,
   "id": "91b0ba08-75d2-4a3e-bf64-ac7be96b1553",
   "metadata": {},
   "outputs": [],
   "source": [
    "df.firstname"
   ]
  },
  {
   "cell_type": "code",
   "execution_count": null,
   "id": "ca6cfefc-ce21-44a8-95e7-352c23072d79",
   "metadata": {},
   "outputs": [],
   "source": [
    "df['lastname'] = df.full_name.str.split(\" \").str.get(0)"
   ]
  },
  {
   "cell_type": "code",
   "execution_count": null,
   "id": "b0529a5c-9e3f-4e38-9181-70ee58dd861d",
   "metadata": {},
   "outputs": [],
   "source": [
    "df.lastname"
   ]
  },
  {
   "cell_type": "code",
   "execution_count": null,
   "id": "f0247184-e398-4485-996a-66cd2af351ac",
   "metadata": {},
   "outputs": [],
   "source": [
    "# Method 2\n",
    "\n",
    "df.full_name"
   ]
  },
  {
   "cell_type": "code",
   "execution_count": null,
   "id": "37f397dd-fdb3-4d1f-835f-4a8aaaeaaf39",
   "metadata": {},
   "outputs": [],
   "source": [
    "df1 = df"
   ]
  },
  {
   "cell_type": "code",
   "execution_count": null,
   "id": "ad3f7557-3a5e-4f1e-a5d6-43f0c80b6ba3",
   "metadata": {},
   "outputs": [],
   "source": [
    "df1.full_name.str.split(\" \",expand=True)"
   ]
  },
  {
   "cell_type": "code",
   "execution_count": null,
   "id": "24f2a38e-35ea-4b9a-99b9-906b6aba70cf",
   "metadata": {},
   "outputs": [],
   "source": [
    "df1.full_name.str.split(\" \",n=1,expand=True)"
   ]
  },
  {
   "cell_type": "code",
   "execution_count": null,
   "id": "7187928a-e8d8-4df2-b3a3-7684fea9843c",
   "metadata": {},
   "outputs": [],
   "source": [
    "df.head(3)"
   ]
  },
  {
   "cell_type": "code",
   "execution_count": null,
   "id": "1c56d947-89af-40fa-bb6c-a3e50003e174",
   "metadata": {},
   "outputs": [],
   "source": [
    "# Finding A String/Exp N Replace"
   ]
  },
  {
   "cell_type": "code",
   "execution_count": null,
   "id": "5c0e237b-c91d-4166-8d6a-fd1713fd7012",
   "metadata": {},
   "outputs": [],
   "source": [
    "df['income.1']"
   ]
  },
  {
   "cell_type": "code",
   "execution_count": null,
   "id": "24c7d7c9-e17a-4363-ba86-6ef2db65d32b",
   "metadata": {},
   "outputs": [],
   "source": [
    "df['income.1'].dtype"
   ]
  },
  {
   "cell_type": "code",
   "execution_count": null,
   "id": "2df59027-221f-462c-bd4c-6d915dfe20b6",
   "metadata": {},
   "outputs": [],
   "source": [
    "df['income.1'].str.replace(\"$\",\" \")"
   ]
  },
  {
   "cell_type": "code",
   "execution_count": null,
   "id": "417db5ac-abc5-4821-9a08-1de3530527b6",
   "metadata": {},
   "outputs": [],
   "source": [
    "df['income.1'].str.replace(\"$\",\"Euro \")"
   ]
  },
  {
   "cell_type": "code",
   "execution_count": null,
   "id": "c549a9e0-7107-453c-a146-3e49ca5c56da",
   "metadata": {},
   "outputs": [],
   "source": [
    "df.head()"
   ]
  },
  {
   "cell_type": "code",
   "execution_count": null,
   "id": "68917893-1f09-4282-be4b-3ba5f1a021ff",
   "metadata": {},
   "outputs": [],
   "source": [
    "# Finding a String/Expression\n",
    "\n",
    "+ str.contains\n",
    "+ str.filter\n",
    "+ str.match"
   ]
  },
  {
   "cell_type": "code",
   "execution_count": null,
   "id": "dd59b212-3619-4246-a6a8-2afb628d37f7",
   "metadata": {},
   "outputs": [],
   "source": [
    "# Find the salary that has 19 in it\n",
    "# As boolean\n",
    "\n",
    "df.salary"
   ]
  },
  {
   "cell_type": "code",
   "execution_count": null,
   "id": "089fa0fd-541c-4bf4-8949-46e0ca806b71",
   "metadata": {},
   "outputs": [],
   "source": [
    "df.salary.str.contains('19')"
   ]
  },
  {
   "cell_type": "code",
   "execution_count": null,
   "id": "55c11c54-7131-4364-a5c1-5ba3f3165738",
   "metadata": {},
   "outputs": [],
   "source": [
    "# get it as value\n",
    "\n",
    "df[df.salary.str.contains('19')]"
   ]
  },
  {
   "cell_type": "code",
   "execution_count": null,
   "id": "2b01aa49-2eb3-4cfd-b958-d9555deaf8ff",
   "metadata": {},
   "outputs": [],
   "source": [
    "df[df.salary.str.contains('19/17')]"
   ]
  },
  {
   "cell_type": "code",
   "execution_count": null,
   "id": "d6315b8f-fb96-4dac-8b77-8c871c33cb6d",
   "metadata": {},
   "outputs": [],
   "source": [
    "# You can also specify it as a regular expression\n",
    "\n",
    "df[df.salary.str.contains('19/17',regex=True)]"
   ]
  },
  {
   "cell_type": "code",
   "execution_count": null,
   "id": "69c769ae-8683-4a67-828b-cabaa053d439",
   "metadata": {},
   "outputs": [],
   "source": [
    "df.salary.str.match('19')"
   ]
  },
  {
   "cell_type": "code",
   "execution_count": null,
   "id": "3ce571b2-a112-4666-9414-21ff357b7ae1",
   "metadata": {},
   "outputs": [],
   "source": [
    "df.quote"
   ]
  },
  {
   "cell_type": "code",
   "execution_count": null,
   "id": "a0ca6146-f0ac-4d4a-b968-f09f8a5edff0",
   "metadata": {},
   "outputs": [],
   "source": [
    "# To find the word 'Operative' in the quote column\n",
    "\n",
    "df[.quote.str.match('Operative')]"
   ]
  },
  {
   "cell_type": "code",
   "execution_count": null,
   "id": "4a8795e4-f4d6-4e79-babf-724eacf1882d",
   "metadata": {},
   "outputs": [],
   "source": [
    "# Finding An Index\n",
    "\n",
    "df.salary.filter(regex='18')"
   ]
  },
  {
   "cell_type": "code",
   "execution_count": null,
   "id": "04447dfa-bc57-4b9e-841b-79a3542c90cd",
   "metadata": {},
   "outputs": [],
   "source": [
    "df.salary.filter(regex='18',axis=0)"
   ]
  },
  {
   "cell_type": "code",
   "execution_count": null,
   "id": "7f110226-50e4-4fef-9b18-3279699554ac",
   "metadata": {},
   "outputs": [],
   "source": [
    "# Join A Column\n",
    "\n",
    "df.head()"
   ]
  },
  {
   "cell_type": "code",
   "execution_count": null,
   "id": "bccb7fa7-7a25-4c77-a11f-1367d70c4c07",
   "metadata": {},
   "outputs": [],
   "source": [
    "# Method 1\n",
    "\n",
    "df.firstname + df.email"
   ]
  },
  {
   "cell_type": "code",
   "execution_count": null,
   "id": "9937aa6b-191b-44a0-b08e-718b24c5f7ce",
   "metadata": {},
   "outputs": [],
   "source": [
    "# Method 1\n",
    "\n",
    "df.firstname +\"_\"+ df.email"
   ]
  },
  {
   "cell_type": "code",
   "execution_count": null,
   "id": "6d3679d1-e4d7-4e5c-b0c1-d011005f9883",
   "metadata": {},
   "outputs": [],
   "source": [
    "# Method 2\n",
    "\n",
    "dfall = df[[\"firstname','email']].apply(\"_\".join,axis=1)"
   ]
  },
  {
   "cell_type": "code",
   "execution_count": null,
   "id": "a6f9cde1-7b26-4f15-a1ce-9a90e3eca09e",
   "metadata": {},
   "outputs": [],
   "source": [
    "dfall"
   ]
  },
  {
   "cell_type": "code",
   "execution_count": null,
   "id": "1931375b-f6a7-4218-a4fe-f6631e59659b",
   "metadata": {},
   "outputs": [],
   "source": [
    "# Counting Strings in a Column\n",
    "\n",
    "df.quote"
   ]
  },
  {
   "cell_type": "code",
   "execution_count": null,
   "id": "75867325-4ca7-4f9e-ba97-48b6b6bce30f",
   "metadata": {},
   "outputs": [],
   "source": [
    "# When it counts only space\n",
    "\n",
    "df.quote.str.count(' ')"
   ]
  },
  {
   "cell_type": "code",
   "execution_count": null,
   "id": "274d6813-64f8-4aef-8269-462595a5320d",
   "metadata": {},
   "outputs": [],
   "source": [
    "# Counting Space plus the right values\n",
    "\n",
    "df.quote.str.count(' ') + 1"
   ]
  },
  {
   "cell_type": "code",
   "execution_count": null,
   "id": "6dc22a97-d54c-4497-91a0-8ce726389e1f",
   "metadata": {},
   "outputs": [],
   "source": [
    "df.quote.str.split().str.len()"
   ]
  },
  {
   "cell_type": "code",
   "execution_count": null,
   "id": "7a35111d-884b-476c-9630-17ef1590e089",
   "metadata": {},
   "outputs": [],
   "source": [
    "df.quote.str.split().map(len)"
   ]
  },
  {
   "cell_type": "code",
   "execution_count": null,
   "id": "85451fe8-6d36-408d-933b-ab029dc61baf",
   "metadata": {},
   "outputs": [],
   "source": [
    "df.quote.str.split().apply(len).value_counts()"
   ]
  },
  {
   "cell_type": "code",
   "execution_count": null,
   "id": "f680de65-b0c5-456e-8864-9d9fcb82f722",
   "metadata": {},
   "outputs": [],
   "source": []
  },
  {
   "cell_type": "code",
   "execution_count": null,
   "id": "42a31769-d461-4ba8-b35e-82d1504203a4",
   "metadata": {},
   "outputs": [],
   "source": []
  },
  {
   "cell_type": "code",
   "execution_count": null,
   "id": "801a662b-0ae8-4e2c-ba23-3ff70b658bc4",
   "metadata": {},
   "outputs": [],
   "source": []
  },
  {
   "cell_type": "code",
   "execution_count": null,
   "id": "c6917fd1-19f9-4e19-8979-df4b3c178215",
   "metadata": {},
   "outputs": [],
   "source": []
  },
  {
   "cell_type": "code",
   "execution_count": null,
   "id": "24317331-e377-4211-83e9-251675564f15",
   "metadata": {},
   "outputs": [],
   "source": []
  },
  {
   "cell_type": "code",
   "execution_count": null,
   "id": "b54e5ab4-f6a2-439c-ba1a-e69ab8f38b84",
   "metadata": {},
   "outputs": [],
   "source": []
  },
  {
   "cell_type": "code",
   "execution_count": 12,
   "id": "a3213812-4ed7-4d12-889c-8dc95e8940c9",
   "metadata": {},
   "outputs": [
    {
     "ename": "NameError",
     "evalue": "name 'df' is not defined",
     "output_type": "error",
     "traceback": [
      "\u001b[1;31m---------------------------------------------------------------------------\u001b[0m",
      "\u001b[1;31mNameError\u001b[0m                                 Traceback (most recent call last)",
      "\u001b[1;32m~\\AppData\\Local\\Temp/ipykernel_10296/27561698.py\u001b[0m in \u001b[0;36m<module>\u001b[1;34m\u001b[0m\n\u001b[1;32m----> 1\u001b[1;33m \u001b[0mdf\u001b[0m\u001b[1;33m.\u001b[0m\u001b[0mrename\u001b[0m\u001b[1;33m(\u001b[0m\u001b[0mcolumns\u001b[0m \u001b[1;33m=\u001b[0m \u001b[1;33m{\u001b[0m\u001b[1;34m'DURATION'\u001b[0m \u001b[1;33m:\u001b[0m \u001b[1;34m'TIME'\u001b[0m\u001b[1;33m}\u001b[0m\u001b[1;33m)\u001b[0m\u001b[1;33m\u001b[0m\u001b[1;33m\u001b[0m\u001b[0m\n\u001b[0m",
      "\u001b[1;31mNameError\u001b[0m: name 'df' is not defined"
     ]
    }
   ],
   "source": [
    "df.rename(columns = {'DURATION' : 'TIME'})"
   ]
  },
  {
   "cell_type": "code",
   "execution_count": null,
   "id": "3459dce8-3934-499e-8857-3042b1a540f5",
   "metadata": {},
   "outputs": [],
   "source": []
  },
  {
   "cell_type": "code",
   "execution_count": null,
   "id": "d770ea17-f65b-4405-b7e0-64083ea3f225",
   "metadata": {},
   "outputs": [],
   "source": []
  },
  {
   "cell_type": "code",
   "execution_count": null,
   "id": "37446307-9f7f-4c60-9a44-60d74694d7bf",
   "metadata": {},
   "outputs": [],
   "source": [
    "df.columns"
   ]
  },
  {
   "cell_type": "code",
   "execution_count": null,
   "id": "023992a9-a808-431d-b00b-34faaa7fc218",
   "metadata": {},
   "outputs": [],
   "source": [
    "df.columns.str.upper()"
   ]
  },
  {
   "cell_type": "code",
   "execution_count": null,
   "id": "92d97aa1-167c-48e5-b260-a6ecb4549b4b",
   "metadata": {},
   "outputs": [],
   "source": [
    "# For Inconsistent column names:\n",
    "\n",
    "# You either Cchange Cases or Rename them. "
   ]
  },
  {
   "cell_type": "code",
   "execution_count": null,
   "id": "fbc0f941-6b9b-4fa6-a3f5-0d238f10a07c",
   "metadata": {},
   "outputs": [],
   "source": []
  },
  {
   "cell_type": "markdown",
   "id": "f61a5c5a-5b45-4e1c-83dd-96cb49ada74f",
   "metadata": {},
   "source": [
    "**Missing Data**"
   ]
  },
  {
   "cell_type": "code",
   "execution_count": null,
   "id": "e7ad5dd0-7502-43c2-9e66-962f05f1b36f",
   "metadata": {},
   "outputs": [],
   "source": [
    "# Add default value for missing data, or use mean to fill it.\n",
    "# Delete the row/column with missing data.\n",
    "# Interpolate the rows.\n",
    "# Replace\n",
    "\n",
    "# To check for missing Data;\n",
    "\n",
    "# False means no missing data.\n",
    "\n",
    "- df.isnull().sum() int\n",
    "- df,isnull().any() bool"
   ]
  },
  {
   "cell_type": "code",
   "execution_count": null,
   "id": "82bd819a-4f9a-4d12-915d-78d00d591b05",
   "metadata": {},
   "outputs": [],
   "source": [
    "df.isnull()"
   ]
  },
  {
   "cell_type": "code",
   "execution_count": null,
   "id": "02deffac-6735-4b9f-9e08-d2dca0b00432",
   "metadata": {},
   "outputs": [],
   "source": [
    "df.isnull().any()"
   ]
  },
  {
   "cell_type": "code",
   "execution_count": null,
   "id": "91b9be51-50f9-4714-9a77-402c40201b70",
   "metadata": {},
   "outputs": [],
   "source": [
    "# Columns with NAN using True/False.\n",
    "# False means it doesn't have a NAN\n",
    "\n",
    "df.isnull().any().any()"
   ]
  },
  {
   "cell_type": "code",
   "execution_count": null,
   "id": "a43067c6-c173-4ebc-a411-c393e8c53352",
   "metadata": {},
   "outputs": [],
   "source": []
  },
  {
   "cell_type": "code",
   "execution_count": null,
   "id": "81929378-9cf3-4246-989f-61763bcf140e",
   "metadata": {},
   "outputs": [],
   "source": [
    "# For entire DataFrame\n",
    "df.isnull().any().any()"
   ]
  },
  {
   "cell_type": "code",
   "execution_count": null,
   "id": "711ff28a-3339-40b9-8b14-b331192a4b4b",
   "metadata": {},
   "outputs": [],
   "source": [
    "# Columns with NAN using Integer\n",
    "\n",
    "df.isnull().sum()"
   ]
  },
  {
   "cell_type": "code",
   "execution_count": null,
   "id": "81c21b62-e851-4314-8f98-7b4e6d641028",
   "metadata": {},
   "outputs": [],
   "source": [
    "# Total Number of Missing NA\n",
    "\n",
    "df.isnull().sum().sum()"
   ]
  },
  {
   "cell_type": "code",
   "execution_count": null,
   "id": "36798cf5-256a-4465-b6b8-f29074fa4422",
   "metadata": {},
   "outputs": [],
   "source": []
  },
  {
   "cell_type": "markdown",
   "id": "9a8354de-e604-4918-bdba-ccd55d3ea3bf",
   "metadata": {},
   "source": [
    "**Adding A Default Value or Filling the Missing Data**"
   ]
  },
  {
   "cell_type": "code",
   "execution_count": null,
   "id": "44b85181-a47b-4198-a5e9-1f5791b4f5d7",
   "metadata": {},
   "outputs": [],
   "source": [
    "df.head()"
   ]
  },
  {
   "cell_type": "code",
   "execution_count": null,
   "id": "e47d3ced-8021-47ab-afcc-14edc7040d86",
   "metadata": {},
   "outputs": [],
   "source": [
    "df.fillna(0)"
   ]
  },
  {
   "cell_type": "code",
   "execution_count": null,
   "id": "a098d1d4-bf96-4917-92b4-16d683ad6dd8",
   "metadata": {},
   "outputs": [],
   "source": [
    "df_with_0 = df.fillna(0)"
   ]
  },
  {
   "cell_type": "code",
   "execution_count": null,
   "id": "2ff9d20a-6acd-4eff-b6bd-8a762bc51f3b",
   "metadata": {},
   "outputs": [],
   "source": [
    "df_with_0.head()"
   ]
  },
  {
   "cell_type": "code",
   "execution_count": null,
   "id": "f3fd7ff1-93ba-4053-b856-8596ed385823",
   "metadata": {},
   "outputs": [],
   "source": [
    "# Fill it with mean\n",
    "\n",
    "df['DURATION']"
   ]
  },
  {
   "cell_type": "code",
   "execution_count": null,
   "id": "84356077-35bc-4fa2-b260-2d43b3936b3b",
   "metadata": {},
   "outputs": [],
   "source": [
    "df['DURATION'].mean()"
   ]
  },
  {
   "cell_type": "code",
   "execution_count": null,
   "id": "baee8efc-f89f-4d69-b7a5-3f4592055641",
   "metadata": {},
   "outputs": [],
   "source": [
    "df_with_mean = df.DURATION.fillna(df['DURATION'].mean())"
   ]
  },
  {
   "cell_type": "code",
   "execution_count": null,
   "id": "e566be42-749a-41e5-a7af-fb7407356fa1",
   "metadata": {},
   "outputs": [],
   "source": [
    "df_with_mean"
   ]
  },
  {
   "cell_type": "code",
   "execution_count": null,
   "id": "9714f72f-cf98-410e-8bfd-2be197b5f311",
   "metadata": {},
   "outputs": [],
   "source": [
    "# Dropping NA\n",
    "\n",
    "df.head()"
   ]
  },
  {
   "cell_type": "code",
   "execution_count": null,
   "id": "fb25934f-669a-4345-b018-14905fd9a9ca",
   "metadata": {},
   "outputs": [],
   "source": [
    "df.isnull().sum().sum()"
   ]
  },
  {
   "cell_type": "code",
   "execution_count": null,
   "id": "eb23e3f4-a05c-4915-a8d3-fb66f93bd533",
   "metadata": {},
   "outputs": [],
   "source": [
    "df.shape"
   ]
  },
  {
   "cell_type": "code",
   "execution_count": null,
   "id": "1be1a7be-fbcf-485b-94c1-29d1992c167d",
   "metadata": {},
   "outputs": [],
   "source": [
    "df_drop = df.dropna()"
   ]
  },
  {
   "cell_type": "code",
   "execution_count": null,
   "id": "64c0fd33-c678-4c4d-ae0a-ab236b0b5132",
   "metadata": {},
   "outputs": [],
   "source": [
    "df_drop.shape"
   ]
  },
  {
   "cell_type": "code",
   "execution_count": null,
   "id": "52379d21-96da-402b-b03e-ae47a9ef5118",
   "metadata": {},
   "outputs": [],
   "source": [
    "df_drop"
   ]
  },
  {
   "cell_type": "code",
   "execution_count": null,
   "id": "51b96d96-6144-4518-8c63-000bd7241787",
   "metadata": {},
   "outputs": [],
   "source": [
    "# Dropping with a Condition\n",
    "\n",
    "df_with_condition = df.dropna(how)"
   ]
  },
  {
   "cell_type": "code",
   "execution_count": null,
   "id": "7503d65b-f9f2-4a35-81a7-943f60fc9fdb",
   "metadata": {},
   "outputs": [],
   "source": [
    "?df.dropna"
   ]
  },
  {
   "cell_type": "code",
   "execution_count": null,
   "id": "5419fcbc-a335-4a76-8b62-2d8449c7805d",
   "metadata": {},
   "outputs": [],
   "source": [
    "df_with_condition = df.dropna(how='any') # or all"
   ]
  },
  {
   "cell_type": "code",
   "execution_count": null,
   "id": "0af85966-ff8b-4e1d-9b42-43d200668fe2",
   "metadata": {},
   "outputs": [],
   "source": [
    "df_with_condition = df.dropna(thresh=2)"
   ]
  },
  {
   "cell_type": "code",
   "execution_count": null,
   "id": "fa409d9b-57f6-45a0-bab3-33a88386290b",
   "metadata": {},
   "outputs": [],
   "source": []
  },
  {
   "cell_type": "code",
   "execution_count": null,
   "id": "2afcce1a-82af-4dcb-a330-ef4f13a7ca35",
   "metadata": {},
   "outputs": [],
   "source": [
    "df_drop_column = df.dropna(axis=1)"
   ]
  },
  {
   "cell_type": "code",
   "execution_count": null,
   "id": "c1fdf26e-b944-41d8-8f94-28b83dea4217",
   "metadata": {},
   "outputs": [],
   "source": [
    "df_drop_column.shape"
   ]
  },
  {
   "cell_type": "code",
   "execution_count": null,
   "id": "99074741-85ce-49f7-8cb3-bb8484feeb33",
   "metadata": {},
   "outputs": [],
   "source": []
  },
  {
   "cell_type": "code",
   "execution_count": null,
   "id": "36c2713f-75e9-483f-b90a-94ff922d31d9",
   "metadata": {},
   "outputs": [],
   "source": []
  },
  {
   "cell_type": "code",
   "execution_count": null,
   "id": "a2ca5cb3-1394-4f7a-9c3d-e6ff785ac56d",
   "metadata": {},
   "outputs": [],
   "source": []
  },
  {
   "cell_type": "code",
   "execution_count": null,
   "id": "7062e157-bfec-411a-b50f-5d3196462f70",
   "metadata": {},
   "outputs": [],
   "source": []
  },
  {
   "cell_type": "markdown",
   "id": "6501a83f-c89d-49e8-9801-2a1908e78502",
   "metadata": {},
   "source": [
    "## DATA CLEANING IN PYTHON WORKING WITH DATA TEXT"
   ]
  },
  {
   "cell_type": "code",
   "execution_count": null,
   "id": "8b289526-5d53-491d-95fe-e8111b673bea",
   "metadata": {},
   "outputs": [],
   "source": []
  },
  {
   "cell_type": "code",
   "execution_count": null,
   "id": "edadc253-83e9-4d4b-b3c8-27bc669e8380",
   "metadata": {},
   "outputs": [],
   "source": []
  },
  {
   "cell_type": "code",
   "execution_count": null,
   "id": "61d11be7-9a07-46e8-9236-86023bfe03d3",
   "metadata": {},
   "outputs": [],
   "source": []
  },
  {
   "cell_type": "code",
   "execution_count": null,
   "id": "3036df57-ccc5-4414-b333-154d18652ff9",
   "metadata": {},
   "outputs": [],
   "source": []
  },
  {
   "cell_type": "code",
   "execution_count": null,
   "id": "25ed26c3-c6d4-4751-b1be-18455b7663ec",
   "metadata": {},
   "outputs": [],
   "source": []
  },
  {
   "cell_type": "code",
   "execution_count": null,
   "id": "52e3b51c-a06c-4003-8f88-4a780301901f",
   "metadata": {},
   "outputs": [],
   "source": []
  },
  {
   "cell_type": "code",
   "execution_count": null,
   "id": "cda2c67b-9395-4d70-af68-d17a66937af6",
   "metadata": {},
   "outputs": [],
   "source": []
  },
  {
   "cell_type": "code",
   "execution_count": null,
   "id": "1d024d3d-6c1d-464b-a858-3a73ea651419",
   "metadata": {},
   "outputs": [],
   "source": []
  },
  {
   "cell_type": "code",
   "execution_count": null,
   "id": "1e272b57-3e05-4bde-be38-6b2f6d5d870a",
   "metadata": {},
   "outputs": [],
   "source": []
  },
  {
   "cell_type": "code",
   "execution_count": null,
   "id": "401c6a93-8e1b-4ce3-9e8d-f4613de325c3",
   "metadata": {},
   "outputs": [],
   "source": []
  },
  {
   "cell_type": "code",
   "execution_count": null,
   "id": "4cced2bb-4a89-4866-a66c-04cabe940012",
   "metadata": {},
   "outputs": [],
   "source": []
  },
  {
   "cell_type": "code",
   "execution_count": null,
   "id": "98a2cbec-4b2f-4fbe-a8b6-b9e0107d6b45",
   "metadata": {},
   "outputs": [],
   "source": []
  },
  {
   "cell_type": "code",
   "execution_count": null,
   "id": "2f5d2427-3fc0-4a81-bda7-3323f3761c8b",
   "metadata": {},
   "outputs": [],
   "source": []
  },
  {
   "cell_type": "code",
   "execution_count": null,
   "id": "8195b3cb-f1b0-429b-9b68-be737f529d73",
   "metadata": {},
   "outputs": [],
   "source": []
  },
  {
   "cell_type": "code",
   "execution_count": null,
   "id": "10c0d6fb-6f3f-4ed4-9177-95d79b843542",
   "metadata": {},
   "outputs": [],
   "source": []
  },
  {
   "cell_type": "code",
   "execution_count": null,
   "id": "2554a84e-bb21-4725-9da8-cd91f4d36ad0",
   "metadata": {},
   "outputs": [],
   "source": []
  },
  {
   "cell_type": "code",
   "execution_count": null,
   "id": "4a9c878d-bbdf-4bed-a192-7df351522aab",
   "metadata": {},
   "outputs": [],
   "source": []
  },
  {
   "cell_type": "code",
   "execution_count": null,
   "id": "6670c58e-a403-46c3-af8b-c3ab77f50517",
   "metadata": {},
   "outputs": [],
   "source": []
  },
  {
   "cell_type": "code",
   "execution_count": null,
   "id": "ac77c988-cc41-412b-bf8b-7b2c84dd8ecd",
   "metadata": {},
   "outputs": [],
   "source": []
  },
  {
   "cell_type": "code",
   "execution_count": null,
   "id": "ac552c99-a921-405b-9677-f2dc258cdce2",
   "metadata": {},
   "outputs": [],
   "source": []
  },
  {
   "cell_type": "code",
   "execution_count": null,
   "id": "513111ff-7b3c-4b36-80be-0ec3ff9d83c9",
   "metadata": {},
   "outputs": [],
   "source": []
  },
  {
   "cell_type": "code",
   "execution_count": null,
   "id": "b88e620d-1be0-48ea-959d-e4d38028d8d2",
   "metadata": {},
   "outputs": [],
   "source": []
  }
 ],
 "metadata": {
  "kernelspec": {
   "display_name": "Python 3 (ipykernel)",
   "language": "python",
   "name": "python3"
  },
  "language_info": {
   "codemirror_mode": {
    "name": "ipython",
    "version": 3
   },
   "file_extension": ".py",
   "mimetype": "text/x-python",
   "name": "python",
   "nbconvert_exporter": "python",
   "pygments_lexer": "ipython3",
   "version": "3.9.12"
  }
 },
 "nbformat": 4,
 "nbformat_minor": 5
}
